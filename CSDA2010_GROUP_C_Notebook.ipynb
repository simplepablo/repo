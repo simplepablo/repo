{
  "nbformat": 4,
  "nbformat_minor": 0,
  "metadata": {
    "colab": {
      "name": "CSDA2010 GROUP C Notebook.ipynb",
      "provenance": [],
      "collapsed_sections": [],
      "include_colab_link": true
    },
    "kernelspec": {
      "display_name": "Python 3",
      "name": "python3"
    },
    "language_info": {
      "name": "python"
    }
  },
  "cells": [
    {
      "cell_type": "markdown",
      "metadata": {
        "id": "view-in-github",
        "colab_type": "text"
      },
      "source": [
        "<a href=\"https://colab.research.google.com/github/simplepablo/repo/blob/main/CSDA2010_GROUP_C_Notebook.ipynb\" target=\"_parent\"><img src=\"https://colab.research.google.com/assets/colab-badge.svg\" alt=\"Open In Colab\"/></a>"
      ]
    },
    {
      "cell_type": "markdown",
      "metadata": {
        "id": "NPd0djbqniup"
      },
      "source": [
        "\n",
        "# THIS IS OUR <span style=\"color:red;\"> CSDA2010 GROUP C </span>  NOTEBOOK"
      ]
    },
    {
      "cell_type": "markdown",
      "metadata": {
        "id": "U3MLxZvjn9LB"
      },
      "source": [
        "## For our Project #1 - Market Basket Analysis"
      ]
    },
    {
      "cell_type": "markdown",
      "metadata": {
        "id": "6kLXS2ywwJeU"
      },
      "source": [
        "**References include:- Example from course notes**\n",
        "\n",
        " *We use listing-level data of Airbnb properties that were available on the platform from January to\n",
        "December 2012. The data was acquired from InsideAirbnb.com, an independent service that provides\n",
        "data on several cities. Our data consists of London rentals. For each listing, we have data on its price,\n",
        "days available, number of ratings as well as the text description of the property. We also have data for\n",
        "each review, including the reviewer, the listing, the review score, and the text of the review. We merged\n",
        "this data with other social and demographic measures obtained from gov.uk, including quality of\n",
        "nearby school ratings and local crime rates. See Appendix Table 1 for a list and description of variables\n",
        "used in our analysis.\n",
        "We performed some transformation of variables to account for missing and skewed data. First, we\n",
        "use the natural log of price and number of ratings. Some observations had missing crime data. For\n",
        "those observations, we substituted the mean crime rate of the neighboring regions.\n",
        "After dropping 1,425 observations because of missing or erroneous location information, we have\n",
        "42,195 listings that were used in our analysis. Table 1 presents summary statistics for the variables and\n",
        "Table 2 presents a correlation matrix. The mean price of a listing in our dataset is 5.05 log pounds and\n",
        "the mean number of ratings (logged) is 1.56.*."
      ]
    },
    {
      "cell_type": "markdown",
      "metadata": {
        "id": "xpqI_Ulmny63"
      },
      "source": [
        "We can colaborate in this notebook."
      ]
    },
    {
      "cell_type": "markdown",
      "metadata": {
        "id": "KyauEj65BmQT"
      },
      "source": [
        "# SET UP"
      ]
    },
    {
      "cell_type": "code",
      "source": [
        "!pip install --upgrade gspread"
      ],
      "metadata": {
        "id": "KC7sIyPewjg5",
        "colab": {
          "base_uri": "https://localhost:8080/"
        },
        "outputId": "165491d9-4d46-45bd-8b44-7b7e83e73e6f"
      },
      "execution_count": null,
      "outputs": [
        {
          "output_type": "stream",
          "name": "stdout",
          "text": [
            "Looking in indexes: https://pypi.org/simple, https://us-python.pkg.dev/colab-wheels/public/simple/\n",
            "Requirement already satisfied: gspread in /usr/local/lib/python3.7/dist-packages (3.4.2)\n",
            "Collecting gspread\n",
            "  Downloading gspread-5.4.0-py3-none-any.whl (37 kB)\n",
            "Requirement already satisfied: google-auth-oauthlib>=0.4.1 in /usr/local/lib/python3.7/dist-packages (from gspread) (0.4.6)\n",
            "Requirement already satisfied: google-auth>=1.12.0 in /usr/local/lib/python3.7/dist-packages (from gspread) (1.35.0)\n",
            "Requirement already satisfied: cachetools<5.0,>=2.0.0 in /usr/local/lib/python3.7/dist-packages (from google-auth>=1.12.0->gspread) (4.2.4)\n",
            "Requirement already satisfied: six>=1.9.0 in /usr/local/lib/python3.7/dist-packages (from google-auth>=1.12.0->gspread) (1.15.0)\n",
            "Requirement already satisfied: pyasn1-modules>=0.2.1 in /usr/local/lib/python3.7/dist-packages (from google-auth>=1.12.0->gspread) (0.2.8)\n",
            "Requirement already satisfied: rsa<5,>=3.1.4 in /usr/local/lib/python3.7/dist-packages (from google-auth>=1.12.0->gspread) (4.9)\n",
            "Requirement already satisfied: setuptools>=40.3.0 in /usr/local/lib/python3.7/dist-packages (from google-auth>=1.12.0->gspread) (57.4.0)\n",
            "Requirement already satisfied: requests-oauthlib>=0.7.0 in /usr/local/lib/python3.7/dist-packages (from google-auth-oauthlib>=0.4.1->gspread) (1.3.1)\n",
            "Requirement already satisfied: pyasn1<0.5.0,>=0.4.6 in /usr/local/lib/python3.7/dist-packages (from pyasn1-modules>=0.2.1->google-auth>=1.12.0->gspread) (0.4.8)\n",
            "Requirement already satisfied: oauthlib>=3.0.0 in /usr/local/lib/python3.7/dist-packages (from requests-oauthlib>=0.7.0->google-auth-oauthlib>=0.4.1->gspread) (3.2.0)\n",
            "Requirement already satisfied: requests>=2.0.0 in /usr/local/lib/python3.7/dist-packages (from requests-oauthlib>=0.7.0->google-auth-oauthlib>=0.4.1->gspread) (2.23.0)\n",
            "Requirement already satisfied: idna<3,>=2.5 in /usr/local/lib/python3.7/dist-packages (from requests>=2.0.0->requests-oauthlib>=0.7.0->google-auth-oauthlib>=0.4.1->gspread) (2.10)\n",
            "Requirement already satisfied: chardet<4,>=3.0.2 in /usr/local/lib/python3.7/dist-packages (from requests>=2.0.0->requests-oauthlib>=0.7.0->google-auth-oauthlib>=0.4.1->gspread) (3.0.4)\n",
            "Requirement already satisfied: urllib3!=1.25.0,!=1.25.1,<1.26,>=1.21.1 in /usr/local/lib/python3.7/dist-packages (from requests>=2.0.0->requests-oauthlib>=0.7.0->google-auth-oauthlib>=0.4.1->gspread) (1.24.3)\n",
            "Requirement already satisfied: certifi>=2017.4.17 in /usr/local/lib/python3.7/dist-packages (from requests>=2.0.0->requests-oauthlib>=0.7.0->google-auth-oauthlib>=0.4.1->gspread) (2022.6.15)\n",
            "Installing collected packages: gspread\n",
            "  Attempting uninstall: gspread\n",
            "    Found existing installation: gspread 3.4.2\n",
            "    Uninstalling gspread-3.4.2:\n",
            "      Successfully uninstalled gspread-3.4.2\n",
            "Successfully installed gspread-5.4.0\n"
          ]
        }
      ]
    },
    {
      "cell_type": "markdown",
      "source": [
        "## Import Data from Google Sheets"
      ],
      "metadata": {
        "id": "wNUQiFwMw0iO"
      }
    },
    {
      "cell_type": "code",
      "metadata": {
        "id": "0T1TGKpxna-d",
        "colab": {
          "base_uri": "https://localhost:8080/"
        },
        "outputId": "7b4e7629-c861-4813-c090-93d56b67b68d"
      },
      "source": [
        "# Install the latest version of pandas profiling\n",
        "!pip install https://github.com/pandas-profiling/pandas-profiling/archive/master.zip "
      ],
      "execution_count": null,
      "outputs": [
        {
          "output_type": "stream",
          "name": "stdout",
          "text": [
            "Looking in indexes: https://pypi.org/simple, https://us-python.pkg.dev/colab-wheels/public/simple/\n",
            "Collecting https://github.com/pandas-profiling/pandas-profiling/archive/master.zip\n",
            "  Downloading https://github.com/pandas-profiling/pandas-profiling/archive/master.zip\n",
            "\u001b[K     | 21.9 MB 137 kB/s\n",
            "\u001b[?25hRequirement already satisfied: joblib~=1.1.0 in /usr/local/lib/python3.7/dist-packages (from pandas-profiling==3.2.0) (1.1.0)\n",
            "Requirement already satisfied: scipy>=1.4.1 in /usr/local/lib/python3.7/dist-packages (from pandas-profiling==3.2.0) (1.7.3)\n",
            "Requirement already satisfied: pandas!=1.0.0,!=1.0.1,!=1.0.2,!=1.1.0,>=0.25.3 in /usr/local/lib/python3.7/dist-packages (from pandas-profiling==3.2.0) (1.3.5)\n",
            "Requirement already satisfied: matplotlib>=3.2.0 in /usr/local/lib/python3.7/dist-packages (from pandas-profiling==3.2.0) (3.2.2)\n",
            "Requirement already satisfied: pydantic>=1.8.1 in /usr/local/lib/python3.7/dist-packages (from pandas-profiling==3.2.0) (1.9.1)\n",
            "Collecting PyYAML>=5.0.0\n",
            "  Downloading PyYAML-6.0-cp37-cp37m-manylinux_2_5_x86_64.manylinux1_x86_64.manylinux_2_12_x86_64.manylinux2010_x86_64.whl (596 kB)\n",
            "\u001b[K     |████████████████████████████████| 596 kB 4.6 MB/s \n",
            "\u001b[?25hRequirement already satisfied: jinja2>=2.11.1 in /usr/local/lib/python3.7/dist-packages (from pandas-profiling==3.2.0) (2.11.3)\n",
            "Collecting visions[type_image_path]==0.7.5\n",
            "  Downloading visions-0.7.5-py3-none-any.whl (102 kB)\n",
            "\u001b[K     |████████████████████████████████| 102 kB 8.3 MB/s \n",
            "\u001b[?25hRequirement already satisfied: numpy>=1.16.0 in /usr/local/lib/python3.7/dist-packages (from pandas-profiling==3.2.0) (1.21.6)\n",
            "Collecting htmlmin>=0.1.12\n",
            "  Downloading htmlmin-0.1.12.tar.gz (19 kB)\n",
            "Requirement already satisfied: missingno>=0.4.2 in /usr/local/lib/python3.7/dist-packages (from pandas-profiling==3.2.0) (0.5.1)\n",
            "Collecting phik>=0.11.1\n",
            "  Downloading phik-0.12.2-cp37-cp37m-manylinux_2_17_x86_64.manylinux2014_x86_64.whl (690 kB)\n",
            "\u001b[K     |████████████████████████████████| 690 kB 6.2 MB/s \n",
            "\u001b[?25hCollecting tangled-up-in-unicode==0.2.0\n",
            "  Downloading tangled_up_in_unicode-0.2.0-py3-none-any.whl (4.7 MB)\n",
            "\u001b[K     |████████████████████████████████| 4.7 MB 29.7 MB/s \n",
            "\u001b[?25hCollecting requests>=2.24.0\n",
            "  Downloading requests-2.28.1-py3-none-any.whl (62 kB)\n",
            "\u001b[K     |████████████████████████████████| 62 kB 1.4 MB/s \n",
            "\u001b[?25hRequirement already satisfied: tqdm>=4.48.2 in /usr/local/lib/python3.7/dist-packages (from pandas-profiling==3.2.0) (4.64.0)\n",
            "Requirement already satisfied: seaborn>=0.10.1 in /usr/local/lib/python3.7/dist-packages (from pandas-profiling==3.2.0) (0.11.2)\n",
            "Collecting multimethod>=1.4\n",
            "  Downloading multimethod-1.8-py3-none-any.whl (9.8 kB)\n",
            "Requirement already satisfied: attrs>=19.3.0 in /usr/local/lib/python3.7/dist-packages (from visions[type_image_path]==0.7.5->pandas-profiling==3.2.0) (21.4.0)\n",
            "Requirement already satisfied: networkx>=2.4 in /usr/local/lib/python3.7/dist-packages (from visions[type_image_path]==0.7.5->pandas-profiling==3.2.0) (2.6.3)\n",
            "Collecting imagehash\n",
            "  Downloading ImageHash-4.2.1.tar.gz (812 kB)\n",
            "\u001b[K     |████████████████████████████████| 812 kB 47.0 MB/s \n",
            "\u001b[?25hRequirement already satisfied: Pillow in /usr/local/lib/python3.7/dist-packages (from visions[type_image_path]==0.7.5->pandas-profiling==3.2.0) (7.1.2)\n",
            "Requirement already satisfied: MarkupSafe>=0.23 in /usr/local/lib/python3.7/dist-packages (from jinja2>=2.11.1->pandas-profiling==3.2.0) (2.0.1)\n",
            "Requirement already satisfied: python-dateutil>=2.1 in /usr/local/lib/python3.7/dist-packages (from matplotlib>=3.2.0->pandas-profiling==3.2.0) (2.8.2)\n",
            "Requirement already satisfied: pyparsing!=2.0.4,!=2.1.2,!=2.1.6,>=2.0.1 in /usr/local/lib/python3.7/dist-packages (from matplotlib>=3.2.0->pandas-profiling==3.2.0) (3.0.9)\n",
            "Requirement already satisfied: cycler>=0.10 in /usr/local/lib/python3.7/dist-packages (from matplotlib>=3.2.0->pandas-profiling==3.2.0) (0.11.0)\n",
            "Requirement already satisfied: kiwisolver>=1.0.1 in /usr/local/lib/python3.7/dist-packages (from matplotlib>=3.2.0->pandas-profiling==3.2.0) (1.4.4)\n",
            "Requirement already satisfied: typing-extensions in /usr/local/lib/python3.7/dist-packages (from kiwisolver>=1.0.1->matplotlib>=3.2.0->pandas-profiling==3.2.0) (4.1.1)\n",
            "Requirement already satisfied: pytz>=2017.3 in /usr/local/lib/python3.7/dist-packages (from pandas!=1.0.0,!=1.0.1,!=1.0.2,!=1.1.0,>=0.25.3->pandas-profiling==3.2.0) (2022.1)\n",
            "Requirement already satisfied: six>=1.5 in /usr/local/lib/python3.7/dist-packages (from python-dateutil>=2.1->matplotlib>=3.2.0->pandas-profiling==3.2.0) (1.15.0)\n",
            "Requirement already satisfied: charset-normalizer<3,>=2 in /usr/local/lib/python3.7/dist-packages (from requests>=2.24.0->pandas-profiling==3.2.0) (2.1.0)\n",
            "Requirement already satisfied: certifi>=2017.4.17 in /usr/local/lib/python3.7/dist-packages (from requests>=2.24.0->pandas-profiling==3.2.0) (2022.6.15)\n",
            "Requirement already satisfied: urllib3<1.27,>=1.21.1 in /usr/local/lib/python3.7/dist-packages (from requests>=2.24.0->pandas-profiling==3.2.0) (1.24.3)\n",
            "Requirement already satisfied: idna<4,>=2.5 in /usr/local/lib/python3.7/dist-packages (from requests>=2.24.0->pandas-profiling==3.2.0) (2.10)\n",
            "Requirement already satisfied: PyWavelets in /usr/local/lib/python3.7/dist-packages (from imagehash->visions[type_image_path]==0.7.5->pandas-profiling==3.2.0) (1.3.0)\n",
            "Building wheels for collected packages: pandas-profiling, htmlmin, imagehash\n",
            "  Building wheel for pandas-profiling (setup.py) ... \u001b[?25l\u001b[?25hdone\n",
            "  Created wheel for pandas-profiling: filename=pandas_profiling-3.2.0-py2.py3-none-any.whl size=261257 sha256=63971f34d34915aa4a2bbdc9c5914768e07e0b2f93197bbb09db3dca4104aba9\n",
            "  Stored in directory: /tmp/pip-ephem-wheel-cache-3fzmjf9o/wheels/cc/d5/09/083fb07c9363a2f45854b0e3a7de7d7c560f07da74b9e9769d\n",
            "  Building wheel for htmlmin (setup.py) ... \u001b[?25l\u001b[?25hdone\n",
            "  Created wheel for htmlmin: filename=htmlmin-0.1.12-py3-none-any.whl size=27098 sha256=397d1f8a1c37547a914ca089f45239c82eb42d228f193d785729d593930794c5\n",
            "  Stored in directory: /root/.cache/pip/wheels/70/e1/52/5b14d250ba868768823940c3229e9950d201a26d0bd3ee8655\n",
            "  Building wheel for imagehash (setup.py) ... \u001b[?25l\u001b[?25hdone\n",
            "  Created wheel for imagehash: filename=ImageHash-4.2.1-py2.py3-none-any.whl size=295206 sha256=05c384991581c29ec331f947fbabd3076f65d3dcc129e5591a0fbca6a36c34a0\n",
            "  Stored in directory: /root/.cache/pip/wheels/4c/d5/59/5e3e297533ddb09407769762985d134135064c6831e29a914e\n",
            "Successfully built pandas-profiling htmlmin imagehash\n",
            "Installing collected packages: tangled-up-in-unicode, multimethod, visions, imagehash, requests, PyYAML, phik, htmlmin, pandas-profiling\n",
            "  Attempting uninstall: requests\n",
            "    Found existing installation: requests 2.23.0\n",
            "    Uninstalling requests-2.23.0:\n",
            "      Successfully uninstalled requests-2.23.0\n",
            "  Attempting uninstall: PyYAML\n",
            "    Found existing installation: PyYAML 3.13\n",
            "    Uninstalling PyYAML-3.13:\n",
            "      Successfully uninstalled PyYAML-3.13\n",
            "  Attempting uninstall: pandas-profiling\n",
            "    Found existing installation: pandas-profiling 1.4.1\n",
            "    Uninstalling pandas-profiling-1.4.1:\n",
            "      Successfully uninstalled pandas-profiling-1.4.1\n",
            "\u001b[31mERROR: pip's dependency resolver does not currently take into account all the packages that are installed. This behaviour is the source of the following dependency conflicts.\n",
            "google-colab 1.0.0 requires requests~=2.23.0, but you have requests 2.28.1 which is incompatible.\n",
            "datascience 0.10.6 requires folium==0.2.1, but you have folium 0.8.3 which is incompatible.\u001b[0m\n",
            "Successfully installed PyYAML-6.0 htmlmin-0.1.12 imagehash-4.2.1 multimethod-1.8 pandas-profiling-3.2.0 phik-0.12.2 requests-2.28.1 tangled-up-in-unicode-0.2.0 visions-0.7.5\n"
          ]
        }
      ]
    },
    {
      "cell_type": "markdown",
      "metadata": {
        "id": "TZ5Uk5trBw29"
      },
      "source": [
        "## Load required libraries"
      ]
    },
    {
      "cell_type": "code",
      "metadata": {
        "id": "xp2CtJy3V6K-"
      },
      "source": [
        "# Import the required packages\n",
        "import pandas as pd\n",
        "import seaborn as sns\n",
        "import matplotlib.pyplot as plt\n",
        "from sklearn.linear_model import LinearRegression\n",
        "from sklearn.ensemble import RandomForestClassifier\n",
        "from sklearn.svm import SVC\n",
        "from sklearn import svm\n",
        "from sklearn.neural_network import MLPClassifier\n",
        "import scipy.stats as st\n",
        "from mlxtend.frequent_patterns import apriori, association_rules\n",
        "\n",
        "\n",
        "# From sklearn.linear_model import SGDClassifier\n",
        "from sklearn.metrics import confusion_matrix, classification_report\n",
        "from sklearn.preprocessing import StandardScaler, LabelEncoder\n",
        "from sklearn.model_selection import train_test_split\n",
        "%matplotlib inline\n",
        "\n",
        "# additional libraries to analyze text\n",
        "from IPython.display import display\n",
        "from bokeh.io import output_notebook\n",
        "from bokeh.models import Label\n",
        "from bokeh.plotting import figure, output_file, show\n",
        "from collections import Counter\n",
        "from nltk.corpus import stopwords\n",
        "from nltk.corpus import wordnet\n",
        "from nltk.stem import WordNetLemmatizer\n",
        "from nltk.stem.porter import PorterStemmer\n",
        "from sklearn.cluster import KMeans\n",
        "from sklearn.decomposition import LatentDirichletAllocation\n",
        "from sklearn.decomposition import PCA\n",
        "from sklearn.decomposition import TruncatedSVD\n",
        "from sklearn.feature_extraction.text import CountVectorizer\n",
        "from sklearn.feature_extraction.text import TfidfVectorizer\n",
        "from sklearn.manifold import TSNE\n",
        "from sklearn.metrics.pairwise import linear_kernel\n",
        "from textblob import TextBlob\n",
        "from tqdm import tqdm\n",
        "import ast\n",
        "import matplotlib.mlab as mlab\n",
        "import nltk\n",
        "import numpy as np\n",
        "import re\n",
        "import scipy.stats as stats\n",
        "from scipy.sparse import csr_matrix, csc_matrix\n",
        "from scipy import sparse\n",
        "import seaborn as sb\n",
        "import spacy\n",
        "import string\n",
        "output_notebook()\n",
        "pd.options.mode.chained_assignment = None"
      ],
      "execution_count": null,
      "outputs": []
    },
    {
      "cell_type": "code",
      "source": [
        "!pip install -q streamlit"
      ],
      "metadata": {
        "id": "HWpz_2KE6VX3"
      },
      "execution_count": null,
      "outputs": []
    },
    {
      "cell_type": "code",
      "source": [
        "!wget https://raw.githubusercontent.com/dataprofessor/code/master/streamlit/iris-ml-app.py"
      ],
      "metadata": {
        "colab": {
          "base_uri": "https://localhost:8080/"
        },
        "id": "BGJAUhH56eP_",
        "outputId": "f0323268-399d-4531-80c0-e411b879a6c8"
      },
      "execution_count": null,
      "outputs": [
        {
          "output_type": "stream",
          "name": "stdout",
          "text": [
            "--2022-07-27 23:07:10--  https://raw.githubusercontent.com/dataprofessor/code/master/streamlit/iris-ml-app.py\n",
            "Resolving raw.githubusercontent.com (raw.githubusercontent.com)... 185.199.108.133, 185.199.109.133, 185.199.110.133, ...\n",
            "Connecting to raw.githubusercontent.com (raw.githubusercontent.com)|185.199.108.133|:443... connected.\n",
            "HTTP request sent, awaiting response... 404 Not Found\n",
            "2022-07-27 23:07:11 ERROR 404: Not Found.\n",
            "\n"
          ]
        }
      ]
    },
    {
      "cell_type": "code",
      "source": [
        "!wget https://bin.equinox.io/c/4VmDzA7iaHb/ngrok-stable-linux-amd64.zip"
      ],
      "metadata": {
        "colab": {
          "base_uri": "https://localhost:8080/"
        },
        "id": "h2-SUGfy6qW2",
        "outputId": "bc0e8d04-ecc2-499b-821b-7dced1fcb8c5"
      },
      "execution_count": null,
      "outputs": [
        {
          "output_type": "stream",
          "name": "stdout",
          "text": [
            "--2022-07-27 23:18:47--  https://bin.equinox.io/c/4VmDzA7iaHb/ngrok-stable-linux-amd64.zip\n",
            "Resolving bin.equinox.io (bin.equinox.io)... 52.202.168.65, 54.237.133.81, 54.161.241.46, ...\n",
            "Connecting to bin.equinox.io (bin.equinox.io)|52.202.168.65|:443... connected.\n",
            "HTTP request sent, awaiting response... 200 OK\n",
            "Length: 13832437 (13M) [application/octet-stream]\n",
            "Saving to: ‘ngrok-stable-linux-amd64.zip’\n",
            "\n",
            "ngrok-stable-linux- 100%[===================>]  13.19M  59.1MB/s    in 0.2s    \n",
            "\n",
            "2022-07-27 23:18:48 (59.1 MB/s) - ‘ngrok-stable-linux-amd64.zip’ saved [13832437/13832437]\n",
            "\n"
          ]
        }
      ]
    },
    {
      "cell_type": "code",
      "source": [
        "!unzip ngrok-stable-linux-amd64.zip"
      ],
      "metadata": {
        "colab": {
          "base_uri": "https://localhost:8080/"
        },
        "id": "1umKLE-i9NE9",
        "outputId": "eafde9ba-249c-4497-af39-442911f0f89c"
      },
      "execution_count": null,
      "outputs": [
        {
          "output_type": "stream",
          "name": "stdout",
          "text": [
            "Archive:  ngrok-stable-linux-amd64.zip\n",
            "  inflating: ngrok                   \n"
          ]
        }
      ]
    },
    {
      "cell_type": "code",
      "source": [
        "get_ipython().system_raw('./ngrok http 8501 &')"
      ],
      "metadata": {
        "id": "LqBgTJ7F9RxM"
      },
      "execution_count": null,
      "outputs": []
    },
    {
      "cell_type": "code",
      "source": [
        "!curl -s http://localhost:4040/api/tunnels | python3 -c \\\n",
        "    'import sys, json; print(\"Execute the next cell and the go to the following URL: \" +json.load(sys.stdin)[\"tunnels\"][0][\"public_url\"])'"
      ],
      "metadata": {
        "colab": {
          "base_uri": "https://localhost:8080/"
        },
        "id": "y2lH6Y_k9adQ",
        "outputId": "6424eea1-5277-4f4d-ae63-9ff106bdaa26"
      },
      "execution_count": null,
      "outputs": [
        {
          "output_type": "stream",
          "name": "stdout",
          "text": [
            "Execute the next cell and the go to the following URL: https://35fb-35-196-22-199.ngrok.io\n"
          ]
        }
      ]
    },
    {
      "cell_type": "code",
      "source": [
        "!streamlit run /content/iris-ml-app.py"
      ],
      "metadata": {
        "colab": {
          "base_uri": "https://localhost:8080/"
        },
        "id": "J2pUFRTb9hHn",
        "outputId": "d51970b7-1fea-4341-ea00-a9ab5fcefadc"
      },
      "execution_count": null,
      "outputs": [
        {
          "output_type": "stream",
          "name": "stdout",
          "text": [
            "2022-07-27 23:20:29.691 INFO    numexpr.utils: NumExpr defaulting to 2 threads.\n",
            "Usage: streamlit run [OPTIONS] TARGET [ARGS]...\n",
            "\n",
            "Error: Invalid value: File does not exist: /content/iris-ml-app.py\n"
          ]
        }
      ]
    },
    {
      "cell_type": "markdown",
      "source": [
        ""
      ],
      "metadata": {
        "id": "Zun0cz5E9fZO"
      }
    },
    {
      "cell_type": "markdown",
      "metadata": {
        "id": "qeYaANaKBMqT"
      },
      "source": [
        "## Load Dataset\n"
      ]
    },
    {
      "cell_type": "markdown",
      "source": [
        ""
      ],
      "metadata": {
        "id": "qGjcxttV3tAF"
      }
    },
    {
      "cell_type": "markdown",
      "metadata": {
        "id": "09EdXtOz17rD"
      },
      "source": [
        "For our study, we used a dataset from Kaggle -----------.\n",
        "This dataset consists of -------------------------------."
      ]
    },
    {
      "cell_type": "markdown",
      "source": [
        "File is located on Google Drive here → \n",
        "https://drive.google.com/file/d/1ZmcgqcQZh_t9Sfiy8DkG9kAsZzRCP1Gj/view?usp=sharing\n",
        "\n"
      ],
      "metadata": {
        "id": "ME7fj77ccmbO"
      }
    },
    {
      "cell_type": "markdown",
      "source": [
        "### Source:\n",
        "https://www.kaggle.com/datasets/aslanahmedov/market-basket-analysis\n",
        "\n",
        "\n",
        "Dr Daqing Chen, Director: Public Analytics group. chend '@' lsbu.ac.uk, School of Engineering, London South Bank University, London SE1 0AA, UK.\n",
        "\n",
        "\n",
        "### Data Set Information:\n",
        "This is a transnational data set which contains all the transactions occurring between 01/12/2010 and 09/12/2011 for a UK-based and registered non-store online retail.The company mainly sells unique all-occasion gifts. \n",
        "\n",
        "### Attribute Information:\n",
        "* BillNo: 6-digit number assigned to each transaction. Nominal.\n",
        "* Itemname: Product name. Nominal.\n",
        "* Quantity: The quantities of each product per transaction. Numeric.\n",
        "* Date: The day and time when each transaction was generated. Numeric.\n",
        "* Price: Product price. Numeric.\n",
        "* CustomerID: 5-digit number assigned to each customer. Nominal.\n",
        "* Country: Name of the country where each customer resides. Nominal.\n",
        "* Total_Price: Transaction total. Numeric."
      ],
      "metadata": {
        "id": "RyhznrT33vu7"
      }
    },
    {
      "cell_type": "markdown",
      "metadata": {
        "id": "cwTntC9kDdyk"
      },
      "source": [
        "**NOTE - To load the dataset. Run code below**"
      ]
    },
    {
      "cell_type": "code",
      "source": [
        "# Import PyDrive and associated libraries.\n",
        "# This only needs to be done once per notebook.\n",
        "from pydrive.auth import GoogleAuth\n",
        "from pydrive.drive import GoogleDrive\n",
        "from google.colab import auth\n",
        "from oauth2client.client import GoogleCredentials\n",
        "\n",
        "# Authenticate and create the PyDrive client.\n",
        "# This only needs to be done once per notebook.\n",
        "auth.authenticate_user()\n",
        "gauth = GoogleAuth()\n",
        "gauth.credentials = GoogleCredentials.get_application_default()\n",
        "drive = GoogleDrive(gauth)\n",
        "\n"
      ],
      "metadata": {
        "id": "rJx8VMnrb07K"
      },
      "execution_count": null,
      "outputs": []
    },
    {
      "cell_type": "code",
      "source": [
        "# Download a file based on its file ID.\n",
        "#\n",
        "# A file ID looks like: laggVyWshwcyP6kEI-y_W3P8D26sz\n",
        "file_id = '1ZmcgqcQZh_t9Sfiy8DkG9kAsZzRCP1Gj'\n",
        "downloaded = drive.CreateFile({'id': file_id})\n",
        "# \n",
        "downloaded.GetContentFile('file.csv')\n"
      ],
      "metadata": {
        "id": "-k-Ox8FcE2Hi"
      },
      "execution_count": null,
      "outputs": []
    },
    {
      "cell_type": "code",
      "source": [
        "mbadf = pd.read_csv('file.csv', delimiter=';')"
      ],
      "metadata": {
        "id": "k36jJLmJCqT4",
        "colab": {
          "base_uri": "https://localhost:8080/"
        },
        "outputId": "ddfb5ada-aeaf-42d7-cc40-0721a9d71582"
      },
      "execution_count": null,
      "outputs": [
        {
          "output_type": "stream",
          "name": "stderr",
          "text": [
            "/usr/local/lib/python3.7/dist-packages/IPython/core/interactiveshell.py:2882: DtypeWarning: Columns (0) have mixed types.Specify dtype option on import or set low_memory=False.\n",
            "  exec(code_obj, self.user_global_ns, self.user_ns)\n"
          ]
        }
      ]
    },
    {
      "cell_type": "markdown",
      "metadata": {
        "id": "gooKMy9BBadF"
      },
      "source": [
        "## Review the Data"
      ]
    },
    {
      "cell_type": "code",
      "source": [
        "mbadf.head()"
      ],
      "metadata": {
        "id": "QMlbD1_lTr2a",
        "colab": {
          "base_uri": "https://localhost:8080/",
          "height": 206
        },
        "outputId": "a32ef972-5f64-4181-e7ea-3bb8249cbd9e"
      },
      "execution_count": null,
      "outputs": [
        {
          "output_type": "execute_result",
          "data": {
            "text/plain": [
              "   BillNo                             Itemname  Quantity              Date  \\\n",
              "0  536365   WHITE HANGING HEART T-LIGHT HOLDER         6  01.12.2010 08:26   \n",
              "1  536365                  WHITE METAL LANTERN         6  01.12.2010 08:26   \n",
              "2  536365       CREAM CUPID HEARTS COAT HANGER         8  01.12.2010 08:26   \n",
              "3  536365  KNITTED UNION FLAG HOT WATER BOTTLE         6  01.12.2010 08:26   \n",
              "4  536365       RED WOOLLY HOTTIE WHITE HEART.         6  01.12.2010 08:26   \n",
              "\n",
              "  Price  CustomerID         Country  \n",
              "0  2,55     17850.0  United Kingdom  \n",
              "1  3,39     17850.0  United Kingdom  \n",
              "2  2,75     17850.0  United Kingdom  \n",
              "3  3,39     17850.0  United Kingdom  \n",
              "4  3,39     17850.0  United Kingdom  "
            ],
            "text/html": [
              "\n",
              "  <div id=\"df-f51c7db0-cf52-4131-9404-2c6c188576d4\">\n",
              "    <div class=\"colab-df-container\">\n",
              "      <div>\n",
              "<style scoped>\n",
              "    .dataframe tbody tr th:only-of-type {\n",
              "        vertical-align: middle;\n",
              "    }\n",
              "\n",
              "    .dataframe tbody tr th {\n",
              "        vertical-align: top;\n",
              "    }\n",
              "\n",
              "    .dataframe thead th {\n",
              "        text-align: right;\n",
              "    }\n",
              "</style>\n",
              "<table border=\"1\" class=\"dataframe\">\n",
              "  <thead>\n",
              "    <tr style=\"text-align: right;\">\n",
              "      <th></th>\n",
              "      <th>BillNo</th>\n",
              "      <th>Itemname</th>\n",
              "      <th>Quantity</th>\n",
              "      <th>Date</th>\n",
              "      <th>Price</th>\n",
              "      <th>CustomerID</th>\n",
              "      <th>Country</th>\n",
              "    </tr>\n",
              "  </thead>\n",
              "  <tbody>\n",
              "    <tr>\n",
              "      <th>0</th>\n",
              "      <td>536365</td>\n",
              "      <td>WHITE HANGING HEART T-LIGHT HOLDER</td>\n",
              "      <td>6</td>\n",
              "      <td>01.12.2010 08:26</td>\n",
              "      <td>2,55</td>\n",
              "      <td>17850.0</td>\n",
              "      <td>United Kingdom</td>\n",
              "    </tr>\n",
              "    <tr>\n",
              "      <th>1</th>\n",
              "      <td>536365</td>\n",
              "      <td>WHITE METAL LANTERN</td>\n",
              "      <td>6</td>\n",
              "      <td>01.12.2010 08:26</td>\n",
              "      <td>3,39</td>\n",
              "      <td>17850.0</td>\n",
              "      <td>United Kingdom</td>\n",
              "    </tr>\n",
              "    <tr>\n",
              "      <th>2</th>\n",
              "      <td>536365</td>\n",
              "      <td>CREAM CUPID HEARTS COAT HANGER</td>\n",
              "      <td>8</td>\n",
              "      <td>01.12.2010 08:26</td>\n",
              "      <td>2,75</td>\n",
              "      <td>17850.0</td>\n",
              "      <td>United Kingdom</td>\n",
              "    </tr>\n",
              "    <tr>\n",
              "      <th>3</th>\n",
              "      <td>536365</td>\n",
              "      <td>KNITTED UNION FLAG HOT WATER BOTTLE</td>\n",
              "      <td>6</td>\n",
              "      <td>01.12.2010 08:26</td>\n",
              "      <td>3,39</td>\n",
              "      <td>17850.0</td>\n",
              "      <td>United Kingdom</td>\n",
              "    </tr>\n",
              "    <tr>\n",
              "      <th>4</th>\n",
              "      <td>536365</td>\n",
              "      <td>RED WOOLLY HOTTIE WHITE HEART.</td>\n",
              "      <td>6</td>\n",
              "      <td>01.12.2010 08:26</td>\n",
              "      <td>3,39</td>\n",
              "      <td>17850.0</td>\n",
              "      <td>United Kingdom</td>\n",
              "    </tr>\n",
              "  </tbody>\n",
              "</table>\n",
              "</div>\n",
              "      <button class=\"colab-df-convert\" onclick=\"convertToInteractive('df-f51c7db0-cf52-4131-9404-2c6c188576d4')\"\n",
              "              title=\"Convert this dataframe to an interactive table.\"\n",
              "              style=\"display:none;\">\n",
              "        \n",
              "  <svg xmlns=\"http://www.w3.org/2000/svg\" height=\"24px\"viewBox=\"0 0 24 24\"\n",
              "       width=\"24px\">\n",
              "    <path d=\"M0 0h24v24H0V0z\" fill=\"none\"/>\n",
              "    <path d=\"M18.56 5.44l.94 2.06.94-2.06 2.06-.94-2.06-.94-.94-2.06-.94 2.06-2.06.94zm-11 1L8.5 8.5l.94-2.06 2.06-.94-2.06-.94L8.5 2.5l-.94 2.06-2.06.94zm10 10l.94 2.06.94-2.06 2.06-.94-2.06-.94-.94-2.06-.94 2.06-2.06.94z\"/><path d=\"M17.41 7.96l-1.37-1.37c-.4-.4-.92-.59-1.43-.59-.52 0-1.04.2-1.43.59L10.3 9.45l-7.72 7.72c-.78.78-.78 2.05 0 2.83L4 21.41c.39.39.9.59 1.41.59.51 0 1.02-.2 1.41-.59l7.78-7.78 2.81-2.81c.8-.78.8-2.07 0-2.86zM5.41 20L4 18.59l7.72-7.72 1.47 1.35L5.41 20z\"/>\n",
              "  </svg>\n",
              "      </button>\n",
              "      \n",
              "  <style>\n",
              "    .colab-df-container {\n",
              "      display:flex;\n",
              "      flex-wrap:wrap;\n",
              "      gap: 12px;\n",
              "    }\n",
              "\n",
              "    .colab-df-convert {\n",
              "      background-color: #E8F0FE;\n",
              "      border: none;\n",
              "      border-radius: 50%;\n",
              "      cursor: pointer;\n",
              "      display: none;\n",
              "      fill: #1967D2;\n",
              "      height: 32px;\n",
              "      padding: 0 0 0 0;\n",
              "      width: 32px;\n",
              "    }\n",
              "\n",
              "    .colab-df-convert:hover {\n",
              "      background-color: #E2EBFA;\n",
              "      box-shadow: 0px 1px 2px rgba(60, 64, 67, 0.3), 0px 1px 3px 1px rgba(60, 64, 67, 0.15);\n",
              "      fill: #174EA6;\n",
              "    }\n",
              "\n",
              "    [theme=dark] .colab-df-convert {\n",
              "      background-color: #3B4455;\n",
              "      fill: #D2E3FC;\n",
              "    }\n",
              "\n",
              "    [theme=dark] .colab-df-convert:hover {\n",
              "      background-color: #434B5C;\n",
              "      box-shadow: 0px 1px 3px 1px rgba(0, 0, 0, 0.15);\n",
              "      filter: drop-shadow(0px 1px 2px rgba(0, 0, 0, 0.3));\n",
              "      fill: #FFFFFF;\n",
              "    }\n",
              "  </style>\n",
              "\n",
              "      <script>\n",
              "        const buttonEl =\n",
              "          document.querySelector('#df-f51c7db0-cf52-4131-9404-2c6c188576d4 button.colab-df-convert');\n",
              "        buttonEl.style.display =\n",
              "          google.colab.kernel.accessAllowed ? 'block' : 'none';\n",
              "\n",
              "        async function convertToInteractive(key) {\n",
              "          const element = document.querySelector('#df-f51c7db0-cf52-4131-9404-2c6c188576d4');\n",
              "          const dataTable =\n",
              "            await google.colab.kernel.invokeFunction('convertToInteractive',\n",
              "                                                     [key], {});\n",
              "          if (!dataTable) return;\n",
              "\n",
              "          const docLinkHtml = 'Like what you see? Visit the ' +\n",
              "            '<a target=\"_blank\" href=https://colab.research.google.com/notebooks/data_table.ipynb>data table notebook</a>'\n",
              "            + ' to learn more about interactive tables.';\n",
              "          element.innerHTML = '';\n",
              "          dataTable['output_type'] = 'display_data';\n",
              "          await google.colab.output.renderOutput(dataTable, element);\n",
              "          const docLink = document.createElement('div');\n",
              "          docLink.innerHTML = docLinkHtml;\n",
              "          element.appendChild(docLink);\n",
              "        }\n",
              "      </script>\n",
              "    </div>\n",
              "  </div>\n",
              "  "
            ]
          },
          "metadata": {},
          "execution_count": 9
        }
      ]
    },
    {
      "cell_type": "code",
      "metadata": {
        "id": "Zk8pjLqeBenn",
        "colab": {
          "base_uri": "https://localhost:8080/"
        },
        "outputId": "4e454d6d-deb2-429b-af1c-2625ad07496c"
      },
      "source": [
        "# To find out what sort of detail is provided with this dataset, we can call .keys()\n",
        "mbadf.keys()\n"
      ],
      "execution_count": null,
      "outputs": [
        {
          "output_type": "execute_result",
          "data": {
            "text/plain": [
              "Index(['BillNo', 'Itemname', 'Quantity', 'Date', 'Price', 'CustomerID',\n",
              "       'Country'],\n",
              "      dtype='object')"
            ]
          },
          "metadata": {},
          "execution_count": 10
        }
      ]
    },
    {
      "cell_type": "code",
      "metadata": {
        "id": "kMPIxMNZsI-t",
        "colab": {
          "base_uri": "https://localhost:8080/"
        },
        "outputId": "86e8a314-4e5e-49ae-9153-f7c1caa3451c"
      },
      "source": [
        "# What info are included in the dataset\n",
        "mbadf.info()"
      ],
      "execution_count": null,
      "outputs": [
        {
          "output_type": "stream",
          "name": "stdout",
          "text": [
            "<class 'pandas.core.frame.DataFrame'>\n",
            "RangeIndex: 522064 entries, 0 to 522063\n",
            "Data columns (total 7 columns):\n",
            " #   Column      Non-Null Count   Dtype  \n",
            "---  ------      --------------   -----  \n",
            " 0   BillNo      522064 non-null  object \n",
            " 1   Itemname    520609 non-null  object \n",
            " 2   Quantity    522064 non-null  int64  \n",
            " 3   Date        522064 non-null  object \n",
            " 4   Price       522064 non-null  object \n",
            " 5   CustomerID  388023 non-null  float64\n",
            " 6   Country     522064 non-null  object \n",
            "dtypes: float64(1), int64(1), object(5)\n",
            "memory usage: 27.9+ MB\n"
          ]
        }
      ]
    },
    {
      "cell_type": "code",
      "source": [
        "# convert Date column into correct datatype\n",
        "mbadf.Date = pd.to_datetime(mbadf.Date)\n",
        "mbadf.info()"
      ],
      "metadata": {
        "id": "X2opKKjyMVK9",
        "colab": {
          "base_uri": "https://localhost:8080/"
        },
        "outputId": "32abdf17-5ee1-405a-8a0a-f679c630741e"
      },
      "execution_count": null,
      "outputs": [
        {
          "output_type": "stream",
          "name": "stdout",
          "text": [
            "<class 'pandas.core.frame.DataFrame'>\n",
            "RangeIndex: 522064 entries, 0 to 522063\n",
            "Data columns (total 7 columns):\n",
            " #   Column      Non-Null Count   Dtype         \n",
            "---  ------      --------------   -----         \n",
            " 0   BillNo      522064 non-null  object        \n",
            " 1   Itemname    520609 non-null  object        \n",
            " 2   Quantity    522064 non-null  int64         \n",
            " 3   Date        522064 non-null  datetime64[ns]\n",
            " 4   Price       522064 non-null  object        \n",
            " 5   CustomerID  388023 non-null  float64       \n",
            " 6   Country     522064 non-null  object        \n",
            "dtypes: datetime64[ns](1), float64(1), int64(1), object(4)\n",
            "memory usage: 27.9+ MB\n"
          ]
        }
      ]
    },
    {
      "cell_type": "code",
      "source": [
        "mbadf.shape"
      ],
      "metadata": {
        "id": "WIvcV15IObK-",
        "colab": {
          "base_uri": "https://localhost:8080/"
        },
        "outputId": "032ea9b4-0b5c-4a67-ff19-bedb7443abd1"
      },
      "execution_count": null,
      "outputs": [
        {
          "output_type": "execute_result",
          "data": {
            "text/plain": [
              "(522064, 7)"
            ]
          },
          "metadata": {},
          "execution_count": 13
        }
      ]
    },
    {
      "cell_type": "code",
      "source": [
        ""
      ],
      "metadata": {
        "id": "9AaKZnmoUyT8"
      },
      "execution_count": null,
      "outputs": []
    },
    {
      "cell_type": "code",
      "source": [
        "mbadf.describe()"
      ],
      "metadata": {
        "id": "l_2WDSr8GFJC",
        "colab": {
          "base_uri": "https://localhost:8080/",
          "height": 300
        },
        "outputId": "a691f97a-c0cf-4cdd-9c64-e3f1d429449f"
      },
      "execution_count": null,
      "outputs": [
        {
          "output_type": "execute_result",
          "data": {
            "text/plain": [
              "            Quantity     CustomerID\n",
              "count  522064.000000  388023.000000\n",
              "mean       10.090435   15316.931710\n",
              "std       161.110525    1721.846964\n",
              "min     -9600.000000   12346.000000\n",
              "25%         1.000000   13950.000000\n",
              "50%         3.000000   15265.000000\n",
              "75%        10.000000   16837.000000\n",
              "max     80995.000000   18287.000000"
            ],
            "text/html": [
              "\n",
              "  <div id=\"df-ea3516cf-cf39-498e-a521-3e6908f3eeda\">\n",
              "    <div class=\"colab-df-container\">\n",
              "      <div>\n",
              "<style scoped>\n",
              "    .dataframe tbody tr th:only-of-type {\n",
              "        vertical-align: middle;\n",
              "    }\n",
              "\n",
              "    .dataframe tbody tr th {\n",
              "        vertical-align: top;\n",
              "    }\n",
              "\n",
              "    .dataframe thead th {\n",
              "        text-align: right;\n",
              "    }\n",
              "</style>\n",
              "<table border=\"1\" class=\"dataframe\">\n",
              "  <thead>\n",
              "    <tr style=\"text-align: right;\">\n",
              "      <th></th>\n",
              "      <th>Quantity</th>\n",
              "      <th>CustomerID</th>\n",
              "    </tr>\n",
              "  </thead>\n",
              "  <tbody>\n",
              "    <tr>\n",
              "      <th>count</th>\n",
              "      <td>522064.000000</td>\n",
              "      <td>388023.000000</td>\n",
              "    </tr>\n",
              "    <tr>\n",
              "      <th>mean</th>\n",
              "      <td>10.090435</td>\n",
              "      <td>15316.931710</td>\n",
              "    </tr>\n",
              "    <tr>\n",
              "      <th>std</th>\n",
              "      <td>161.110525</td>\n",
              "      <td>1721.846964</td>\n",
              "    </tr>\n",
              "    <tr>\n",
              "      <th>min</th>\n",
              "      <td>-9600.000000</td>\n",
              "      <td>12346.000000</td>\n",
              "    </tr>\n",
              "    <tr>\n",
              "      <th>25%</th>\n",
              "      <td>1.000000</td>\n",
              "      <td>13950.000000</td>\n",
              "    </tr>\n",
              "    <tr>\n",
              "      <th>50%</th>\n",
              "      <td>3.000000</td>\n",
              "      <td>15265.000000</td>\n",
              "    </tr>\n",
              "    <tr>\n",
              "      <th>75%</th>\n",
              "      <td>10.000000</td>\n",
              "      <td>16837.000000</td>\n",
              "    </tr>\n",
              "    <tr>\n",
              "      <th>max</th>\n",
              "      <td>80995.000000</td>\n",
              "      <td>18287.000000</td>\n",
              "    </tr>\n",
              "  </tbody>\n",
              "</table>\n",
              "</div>\n",
              "      <button class=\"colab-df-convert\" onclick=\"convertToInteractive('df-ea3516cf-cf39-498e-a521-3e6908f3eeda')\"\n",
              "              title=\"Convert this dataframe to an interactive table.\"\n",
              "              style=\"display:none;\">\n",
              "        \n",
              "  <svg xmlns=\"http://www.w3.org/2000/svg\" height=\"24px\"viewBox=\"0 0 24 24\"\n",
              "       width=\"24px\">\n",
              "    <path d=\"M0 0h24v24H0V0z\" fill=\"none\"/>\n",
              "    <path d=\"M18.56 5.44l.94 2.06.94-2.06 2.06-.94-2.06-.94-.94-2.06-.94 2.06-2.06.94zm-11 1L8.5 8.5l.94-2.06 2.06-.94-2.06-.94L8.5 2.5l-.94 2.06-2.06.94zm10 10l.94 2.06.94-2.06 2.06-.94-2.06-.94-.94-2.06-.94 2.06-2.06.94z\"/><path d=\"M17.41 7.96l-1.37-1.37c-.4-.4-.92-.59-1.43-.59-.52 0-1.04.2-1.43.59L10.3 9.45l-7.72 7.72c-.78.78-.78 2.05 0 2.83L4 21.41c.39.39.9.59 1.41.59.51 0 1.02-.2 1.41-.59l7.78-7.78 2.81-2.81c.8-.78.8-2.07 0-2.86zM5.41 20L4 18.59l7.72-7.72 1.47 1.35L5.41 20z\"/>\n",
              "  </svg>\n",
              "      </button>\n",
              "      \n",
              "  <style>\n",
              "    .colab-df-container {\n",
              "      display:flex;\n",
              "      flex-wrap:wrap;\n",
              "      gap: 12px;\n",
              "    }\n",
              "\n",
              "    .colab-df-convert {\n",
              "      background-color: #E8F0FE;\n",
              "      border: none;\n",
              "      border-radius: 50%;\n",
              "      cursor: pointer;\n",
              "      display: none;\n",
              "      fill: #1967D2;\n",
              "      height: 32px;\n",
              "      padding: 0 0 0 0;\n",
              "      width: 32px;\n",
              "    }\n",
              "\n",
              "    .colab-df-convert:hover {\n",
              "      background-color: #E2EBFA;\n",
              "      box-shadow: 0px 1px 2px rgba(60, 64, 67, 0.3), 0px 1px 3px 1px rgba(60, 64, 67, 0.15);\n",
              "      fill: #174EA6;\n",
              "    }\n",
              "\n",
              "    [theme=dark] .colab-df-convert {\n",
              "      background-color: #3B4455;\n",
              "      fill: #D2E3FC;\n",
              "    }\n",
              "\n",
              "    [theme=dark] .colab-df-convert:hover {\n",
              "      background-color: #434B5C;\n",
              "      box-shadow: 0px 1px 3px 1px rgba(0, 0, 0, 0.15);\n",
              "      filter: drop-shadow(0px 1px 2px rgba(0, 0, 0, 0.3));\n",
              "      fill: #FFFFFF;\n",
              "    }\n",
              "  </style>\n",
              "\n",
              "      <script>\n",
              "        const buttonEl =\n",
              "          document.querySelector('#df-ea3516cf-cf39-498e-a521-3e6908f3eeda button.colab-df-convert');\n",
              "        buttonEl.style.display =\n",
              "          google.colab.kernel.accessAllowed ? 'block' : 'none';\n",
              "\n",
              "        async function convertToInteractive(key) {\n",
              "          const element = document.querySelector('#df-ea3516cf-cf39-498e-a521-3e6908f3eeda');\n",
              "          const dataTable =\n",
              "            await google.colab.kernel.invokeFunction('convertToInteractive',\n",
              "                                                     [key], {});\n",
              "          if (!dataTable) return;\n",
              "\n",
              "          const docLinkHtml = 'Like what you see? Visit the ' +\n",
              "            '<a target=\"_blank\" href=https://colab.research.google.com/notebooks/data_table.ipynb>data table notebook</a>'\n",
              "            + ' to learn more about interactive tables.';\n",
              "          element.innerHTML = '';\n",
              "          dataTable['output_type'] = 'display_data';\n",
              "          await google.colab.output.renderOutput(dataTable, element);\n",
              "          const docLink = document.createElement('div');\n",
              "          docLink.innerHTML = docLinkHtml;\n",
              "          element.appendChild(docLink);\n",
              "        }\n",
              "      </script>\n",
              "    </div>\n",
              "  </div>\n",
              "  "
            ]
          },
          "metadata": {},
          "execution_count": 14
        }
      ]
    },
    {
      "cell_type": "markdown",
      "metadata": {
        "id": "X_RyJhpOCQi_"
      },
      "source": [
        "## For each numerical feature, we can see the **`count`**, or number of data entries, the **`mean`** value, and the **`standard deviation`**, **`min`**, **`max`** and **`quartile`** values. \n",
        "\n",
        "\n"
      ]
    },
    {
      "cell_type": "code",
      "metadata": {
        "id": "dYa6wPgfmIll",
        "colab": {
          "base_uri": "https://localhost:8080/"
        },
        "outputId": "ee33f508-99c8-4423-83ca-8c7f785b01d2"
      },
      "source": [
        "# check for blank or missing values\n",
        "mbadf.isna().sum()"
      ],
      "execution_count": null,
      "outputs": [
        {
          "output_type": "execute_result",
          "data": {
            "text/plain": [
              "BillNo             0\n",
              "Itemname        1455\n",
              "Quantity           0\n",
              "Date               0\n",
              "Price              0\n",
              "CustomerID    134041\n",
              "Country            0\n",
              "dtype: int64"
            ]
          },
          "metadata": {},
          "execution_count": 15
        }
      ]
    },
    {
      "cell_type": "code",
      "source": [
        "# drop NA values\n",
        "mbadf.dropna(inplace=True)\n",
        "\n",
        "# quantity and price should be greater than 0\n",
        "mbadf = mbadf[mbadf['Quantity'] > 0]\n",
        "\n",
        "# change the price column datatype as a numeric\n",
        "mbadf['Price'] = pd.to_numeric(mbadf['Price'], errors='coerce')\n",
        "mbadf = mbadf[mbadf['Price'] > 0]"
      ],
      "metadata": {
        "id": "FI1YrpxSPgjo"
      },
      "execution_count": null,
      "outputs": []
    },
    {
      "cell_type": "code",
      "source": [
        "mbadf.shape"
      ],
      "metadata": {
        "id": "cTKnsus_SEn_",
        "colab": {
          "base_uri": "https://localhost:8080/"
        },
        "outputId": "45716ae3-7fc6-4097-ba73-c2fc7af59b2a"
      },
      "execution_count": null,
      "outputs": [
        {
          "output_type": "execute_result",
          "data": {
            "text/plain": [
              "(1537, 7)"
            ]
          },
          "metadata": {},
          "execution_count": 17
        }
      ]
    },
    {
      "cell_type": "code",
      "source": [
        "mbadf.isna().sum()"
      ],
      "metadata": {
        "id": "Uexw4bUqRukz",
        "colab": {
          "base_uri": "https://localhost:8080/"
        },
        "outputId": "49dddef4-38fc-4e8d-99f4-5394deb11f76"
      },
      "execution_count": null,
      "outputs": [
        {
          "output_type": "execute_result",
          "data": {
            "text/plain": [
              "BillNo        0\n",
              "Itemname      0\n",
              "Quantity      0\n",
              "Date          0\n",
              "Price         0\n",
              "CustomerID    0\n",
              "Country       0\n",
              "dtype: int64"
            ]
          },
          "metadata": {},
          "execution_count": 18
        }
      ]
    },
    {
      "cell_type": "code",
      "source": [
        "mbadf.dtypes"
      ],
      "metadata": {
        "id": "-yMy_cWSR1b3",
        "colab": {
          "base_uri": "https://localhost:8080/"
        },
        "outputId": "dca35038-00fb-46d3-9cdf-19f5c90c25a7"
      },
      "execution_count": null,
      "outputs": [
        {
          "output_type": "execute_result",
          "data": {
            "text/plain": [
              "BillNo                object\n",
              "Itemname              object\n",
              "Quantity               int64\n",
              "Date          datetime64[ns]\n",
              "Price                float64\n",
              "CustomerID           float64\n",
              "Country               object\n",
              "dtype: object"
            ]
          },
          "metadata": {},
          "execution_count": 19
        }
      ]
    },
    {
      "cell_type": "markdown",
      "source": [
        "# EDA & VISUALIZATIONS\n",
        "\n",
        "## Should we try adding some visualizations? \n",
        "**Perhaps a bar chart of the top 10-15 most popular items?**"
      ],
      "metadata": {
        "id": "pZSWuFa3TEij"
      }
    },
    {
      "cell_type": "code",
      "metadata": {
        "id": "STzjOJbXGicu",
        "colab": {
          "base_uri": "https://localhost:8080/"
        },
        "outputId": "962a8d9b-388a-4c0c-a62c-f0327d98d251"
      },
      "source": [
        "mbadf['Itemname'].value_counts().head(15)"
      ],
      "execution_count": null,
      "outputs": [
        {
          "output_type": "execute_result",
          "data": {
            "text/plain": [
              "POSTAGE                               1034\n",
              "Next Day Carriage                       79\n",
              "BOTANICAL GARDENS WALL CLOCK            63\n",
              "Manual                                  46\n",
              "LOVE SEAT ANTIQUE WHITE METAL           40\n",
              "VINTAGE RED KITCHEN CABINET             36\n",
              "CARRIAGE                                32\n",
              "RUSTIC  SEVENTEEN DRAWER SIDEBOARD      23\n",
              "VINTAGE BLUE KITCHEN CABINET            18\n",
              "CHEST NATURAL WOOD 20 DRAWERS           13\n",
              "RED KUKUI COCONUT SEED NECKLACE         11\n",
              "Bank Charges                            11\n",
              "SCHOOL DESK AND CHAIR                   10\n",
              "REGENCY MIRROR WITH SHUTTERS             7\n",
              "BROWN KUKUI COCONUT SEED NECKLACE        6\n",
              "Name: Itemname, dtype: int64"
            ]
          },
          "metadata": {},
          "execution_count": 20
        }
      ]
    },
    {
      "cell_type": "code",
      "source": [
        "color = plt.cm.rainbow(np.linspace(0, 1, 40))\n",
        "mbadf['Itemname'].value_counts().head(15).plot.bar(color = color, figsize=(13,5))\n",
        "plt.title('Frequency of most popular items', fontsize = 20)\n",
        "plt.xticks(rotation = 90 )\n",
        "plt.grid()\n",
        "plt.show()\n"
      ],
      "metadata": {
        "id": "_wlsTvJ16IBD",
        "colab": {
          "base_uri": "https://localhost:8080/",
          "height": 542
        },
        "outputId": "c9590b22-0e07-440e-c852-86a1069ab6ff"
      },
      "execution_count": null,
      "outputs": [
        {
          "output_type": "display_data",
          "data": {
            "text/plain": [
              "<Figure size 936x360 with 1 Axes>"
            ],
            "image/png": "[encoded data removed]"
          },
          "metadata": {
            "needs_background": "light"
          }
        }
      ]
    },
    {
      "cell_type": "markdown",
      "source": [
        "**\"POSTAGE\"** seems to be an outlier. We will drop the rows that have the \"POSTAGE\" item."
      ],
      "metadata": {
        "id": "IV3CcXWYoslZ"
      }
    },
    {
      "cell_type": "code",
      "source": [
        "mbadf.drop(mbadf[mbadf.Itemname=='POSTAGE'].index, inplace=True)"
      ],
      "metadata": {
        "id": "OLM82Ql7VVHd"
      },
      "execution_count": null,
      "outputs": []
    },
    {
      "cell_type": "code",
      "source": [
        "mbadf['Itemname'].value_counts().head(15)"
      ],
      "metadata": {
        "colab": {
          "base_uri": "https://localhost:8080/"
        },
        "id": "ywdzDsrBVMcF",
        "outputId": "03dc2125-9c30-4848-9788-45dcd80d70d2"
      },
      "execution_count": null,
      "outputs": [
        {
          "output_type": "execute_result",
          "data": {
            "text/plain": [
              "Next Day Carriage                      79\n",
              "BOTANICAL GARDENS WALL CLOCK           63\n",
              "Manual                                 46\n",
              "LOVE SEAT ANTIQUE WHITE METAL          40\n",
              "VINTAGE RED KITCHEN CABINET            36\n",
              "CARRIAGE                               32\n",
              "RUSTIC  SEVENTEEN DRAWER SIDEBOARD     23\n",
              "VINTAGE BLUE KITCHEN CABINET           18\n",
              "CHEST NATURAL WOOD 20 DRAWERS          13\n",
              "RED KUKUI COCONUT SEED NECKLACE        11\n",
              "Bank Charges                           11\n",
              "SCHOOL DESK AND CHAIR                  10\n",
              "REGENCY MIRROR WITH SHUTTERS            7\n",
              "BROWN KUKUI COCONUT SEED NECKLACE       6\n",
              "SPOTTED WHITE NATURAL SEED NECKLACE     5\n",
              "Name: Itemname, dtype: int64"
            ]
          },
          "metadata": {},
          "execution_count": 23
        }
      ]
    },
    {
      "cell_type": "code",
      "source": [
        "mbadf['Itemname'].value_counts()"
      ],
      "metadata": {
        "colab": {
          "base_uri": "https://localhost:8080/"
        },
        "id": "IHGZmCdnI1h_",
        "outputId": "ac19be98-11c8-42d9-df7e-81866fd94345"
      },
      "execution_count": null,
      "outputs": [
        {
          "output_type": "execute_result",
          "data": {
            "text/plain": [
              "Next Day Carriage                      79\n",
              "BOTANICAL GARDENS WALL CLOCK           63\n",
              "Manual                                 46\n",
              "LOVE SEAT ANTIQUE WHITE METAL          40\n",
              "VINTAGE RED KITCHEN CABINET            36\n",
              "                                       ..\n",
              "DOORMAT VINTAGE LEAF                    1\n",
              "FRENCH STYLE EMBOSSED HEART CABINET     1\n",
              "PICNIC BASKET WICKER SMALL              1\n",
              "BREAD BIN DINER STYLE RED               1\n",
              "CLASSIC FRENCH STYLE BASKET NATURAL     1\n",
              "Name: Itemname, Length: 72, dtype: int64"
            ]
          },
          "metadata": {},
          "execution_count": 24
        }
      ]
    },
    {
      "cell_type": "code",
      "source": [
        "mbadf.shape"
      ],
      "metadata": {
        "colab": {
          "base_uri": "https://localhost:8080/"
        },
        "id": "F9ilbKtcJI1Z",
        "outputId": "2e354133-577d-4ef2-a2bf-c34ac84428f1"
      },
      "execution_count": null,
      "outputs": [
        {
          "output_type": "execute_result",
          "data": {
            "text/plain": [
              "(503, 7)"
            ]
          },
          "metadata": {},
          "execution_count": 25
        }
      ]
    },
    {
      "cell_type": "code",
      "source": [
        "color = plt.cm.rainbow(np.linspace(0, 1, 40))\n",
        "mbadf['Itemname'].value_counts().head(15).plot.bar(color = color, figsize=(13,5))\n",
        "plt.title('Top 15 most popular items(POSTAGE removed)', fontsize = 20)\n",
        "plt.xticks(rotation = 90 )\n",
        "plt.grid()\n",
        "plt.show()"
      ],
      "metadata": {
        "colab": {
          "base_uri": "https://localhost:8080/",
          "height": 547
        },
        "id": "kCD91u2Wqq4c",
        "outputId": "509e89d8-b64d-4663-8da6-d2c631904b03"
      },
      "execution_count": null,
      "outputs": [
        {
          "output_type": "display_data",
          "data": {
            "text/plain": [
              "<Figure size 936x360 with 1 Axes>"
            ],
            "image/png": "[encoded data removed]"
          },
          "metadata": {
            "needs_background": "light"
          }
        }
      ]
    },
    {
      "cell_type": "code",
      "source": [
        "sales = mbadf\n",
        "sales['Total_Price'] = sales['Price'] * sales['Quantity']\n",
        "# sales.columns\n",
        "sales_per_customer = sales.groupby(['CustomerID', 'Country']).agg({\"Total_Price\": \"sum\"})\n",
        "sales_per_customer.head(10)"
      ],
      "metadata": {
        "id": "BYYkSjKqTWyD",
        "colab": {
          "base_uri": "https://localhost:8080/",
          "height": 394
        },
        "outputId": "d5163f23-8c49-4396-bec9-e878aaa3b60b"
      },
      "execution_count": null,
      "outputs": [
        {
          "output_type": "execute_result",
          "data": {
            "text/plain": [
              "                        Total_Price\n",
              "CustomerID Country                 \n",
              "12357.0    Switzerland         25.0\n",
              "12432.0    Norway             130.0\n",
              "12448.0    Spain               65.0\n",
              "12471.0    Germany             30.0\n",
              "12493.0    France              36.0\n",
              "12500.0    Germany              3.0\n",
              "12523.0    France              25.0\n",
              "12612.0    Germany             96.0\n",
              "12620.0    France              18.0\n",
              "12678.0    France             150.0"
            ],
            "text/html": [
              "\n",
              "  <div id=\"df-dd28725e-f595-4c0d-924f-251699609bec\">\n",
              "    <div class=\"colab-df-container\">\n",
              "      <div>\n",
              "<style scoped>\n",
              "    .dataframe tbody tr th:only-of-type {\n",
              "        vertical-align: middle;\n",
              "    }\n",
              "\n",
              "    .dataframe tbody tr th {\n",
              "        vertical-align: top;\n",
              "    }\n",
              "\n",
              "    .dataframe thead th {\n",
              "        text-align: right;\n",
              "    }\n",
              "</style>\n",
              "<table border=\"1\" class=\"dataframe\">\n",
              "  <thead>\n",
              "    <tr style=\"text-align: right;\">\n",
              "      <th></th>\n",
              "      <th></th>\n",
              "      <th>Total_Price</th>\n",
              "    </tr>\n",
              "    <tr>\n",
              "      <th>CustomerID</th>\n",
              "      <th>Country</th>\n",
              "      <th></th>\n",
              "    </tr>\n",
              "  </thead>\n",
              "  <tbody>\n",
              "    <tr>\n",
              "      <th>12357.0</th>\n",
              "      <th>Switzerland</th>\n",
              "      <td>25.0</td>\n",
              "    </tr>\n",
              "    <tr>\n",
              "      <th>12432.0</th>\n",
              "      <th>Norway</th>\n",
              "      <td>130.0</td>\n",
              "    </tr>\n",
              "    <tr>\n",
              "      <th>12448.0</th>\n",
              "      <th>Spain</th>\n",
              "      <td>65.0</td>\n",
              "    </tr>\n",
              "    <tr>\n",
              "      <th>12471.0</th>\n",
              "      <th>Germany</th>\n",
              "      <td>30.0</td>\n",
              "    </tr>\n",
              "    <tr>\n",
              "      <th>12493.0</th>\n",
              "      <th>France</th>\n",
              "      <td>36.0</td>\n",
              "    </tr>\n",
              "    <tr>\n",
              "      <th>12500.0</th>\n",
              "      <th>Germany</th>\n",
              "      <td>3.0</td>\n",
              "    </tr>\n",
              "    <tr>\n",
              "      <th>12523.0</th>\n",
              "      <th>France</th>\n",
              "      <td>25.0</td>\n",
              "    </tr>\n",
              "    <tr>\n",
              "      <th>12612.0</th>\n",
              "      <th>Germany</th>\n",
              "      <td>96.0</td>\n",
              "    </tr>\n",
              "    <tr>\n",
              "      <th>12620.0</th>\n",
              "      <th>France</th>\n",
              "      <td>18.0</td>\n",
              "    </tr>\n",
              "    <tr>\n",
              "      <th>12678.0</th>\n",
              "      <th>France</th>\n",
              "      <td>150.0</td>\n",
              "    </tr>\n",
              "  </tbody>\n",
              "</table>\n",
              "</div>\n",
              "      <button class=\"colab-df-convert\" onclick=\"convertToInteractive('df-dd28725e-f595-4c0d-924f-251699609bec')\"\n",
              "              title=\"Convert this dataframe to an interactive table.\"\n",
              "              style=\"display:none;\">\n",
              "        \n",
              "  <svg xmlns=\"http://www.w3.org/2000/svg\" height=\"24px\"viewBox=\"0 0 24 24\"\n",
              "       width=\"24px\">\n",
              "    <path d=\"M0 0h24v24H0V0z\" fill=\"none\"/>\n",
              "    <path d=\"M18.56 5.44l.94 2.06.94-2.06 2.06-.94-2.06-.94-.94-2.06-.94 2.06-2.06.94zm-11 1L8.5 8.5l.94-2.06 2.06-.94-2.06-.94L8.5 2.5l-.94 2.06-2.06.94zm10 10l.94 2.06.94-2.06 2.06-.94-2.06-.94-.94-2.06-.94 2.06-2.06.94z\"/><path d=\"M17.41 7.96l-1.37-1.37c-.4-.4-.92-.59-1.43-.59-.52 0-1.04.2-1.43.59L10.3 9.45l-7.72 7.72c-.78.78-.78 2.05 0 2.83L4 21.41c.39.39.9.59 1.41.59.51 0 1.02-.2 1.41-.59l7.78-7.78 2.81-2.81c.8-.78.8-2.07 0-2.86zM5.41 20L4 18.59l7.72-7.72 1.47 1.35L5.41 20z\"/>\n",
              "  </svg>\n",
              "      </button>\n",
              "      \n",
              "  <style>\n",
              "    .colab-df-container {\n",
              "      display:flex;\n",
              "      flex-wrap:wrap;\n",
              "      gap: 12px;\n",
              "    }\n",
              "\n",
              "    .colab-df-convert {\n",
              "      background-color: #E8F0FE;\n",
              "      border: none;\n",
              "      border-radius: 50%;\n",
              "      cursor: pointer;\n",
              "      display: none;\n",
              "      fill: #1967D2;\n",
              "      height: 32px;\n",
              "      padding: 0 0 0 0;\n",
              "      width: 32px;\n",
              "    }\n",
              "\n",
              "    .colab-df-convert:hover {\n",
              "      background-color: #E2EBFA;\n",
              "      box-shadow: 0px 1px 2px rgba(60, 64, 67, 0.3), 0px 1px 3px 1px rgba(60, 64, 67, 0.15);\n",
              "      fill: #174EA6;\n",
              "    }\n",
              "\n",
              "    [theme=dark] .colab-df-convert {\n",
              "      background-color: #3B4455;\n",
              "      fill: #D2E3FC;\n",
              "    }\n",
              "\n",
              "    [theme=dark] .colab-df-convert:hover {\n",
              "      background-color: #434B5C;\n",
              "      box-shadow: 0px 1px 3px 1px rgba(0, 0, 0, 0.15);\n",
              "      filter: drop-shadow(0px 1px 2px rgba(0, 0, 0, 0.3));\n",
              "      fill: #FFFFFF;\n",
              "    }\n",
              "  </style>\n",
              "\n",
              "      <script>\n",
              "        const buttonEl =\n",
              "          document.querySelector('#df-dd28725e-f595-4c0d-924f-251699609bec button.colab-df-convert');\n",
              "        buttonEl.style.display =\n",
              "          google.colab.kernel.accessAllowed ? 'block' : 'none';\n",
              "\n",
              "        async function convertToInteractive(key) {\n",
              "          const element = document.querySelector('#df-dd28725e-f595-4c0d-924f-251699609bec');\n",
              "          const dataTable =\n",
              "            await google.colab.kernel.invokeFunction('convertToInteractive',\n",
              "                                                     [key], {});\n",
              "          if (!dataTable) return;\n",
              "\n",
              "          const docLinkHtml = 'Like what you see? Visit the ' +\n",
              "            '<a target=\"_blank\" href=https://colab.research.google.com/notebooks/data_table.ipynb>data table notebook</a>'\n",
              "            + ' to learn more about interactive tables.';\n",
              "          element.innerHTML = '';\n",
              "          dataTable['output_type'] = 'display_data';\n",
              "          await google.colab.output.renderOutput(dataTable, element);\n",
              "          const docLink = document.createElement('div');\n",
              "          docLink.innerHTML = docLinkHtml;\n",
              "          element.appendChild(docLink);\n",
              "        }\n",
              "      </script>\n",
              "    </div>\n",
              "  </div>\n",
              "  "
            ]
          },
          "metadata": {},
          "execution_count": 27
        }
      ]
    },
    {
      "cell_type": "code",
      "source": [
        "sales_per_Itemname = sales.groupby(['Itemname', 'Country']).agg({\"Total_Price\": \"sum\"})\n",
        "sales_per_Itemname.head(10)\n",
        "sales_per_Itemname.sort_values(\"Total_Price\", ascending=False)"
      ],
      "metadata": {
        "id": "y-JEEJf_DecP",
        "colab": {
          "base_uri": "https://localhost:8080/",
          "height": 455
        },
        "outputId": "24e54f28-8c70-41e7-84d0-b7ee09a96169"
      },
      "execution_count": null,
      "outputs": [
        {
          "output_type": "execute_result",
          "data": {
            "text/plain": [
              "                                                   Total_Price\n",
              "Itemname                           Country                    \n",
              "VINTAGE RED KITCHEN CABINET        United Kingdom       7625.0\n",
              "LOVE SEAT ANTIQUE WHITE METAL      United Kingdom       5870.0\n",
              "Manual                             United Kingdom       5064.0\n",
              "RUSTIC  SEVENTEEN DRAWER SIDEBOARD United Kingdom       4670.0\n",
              "VINTAGE BLUE KITCHEN CABINET       United Kingdom       3435.0\n",
              "...                                                        ...\n",
              "CAKE STAND VICTORIAN FILIGREE MED  United Kingdom          3.0\n",
              "PICNIC BASKET WICKER LARGE         United Kingdom          3.0\n",
              "High Resolution Image              Germany                 3.0\n",
              "PICNIC BASKET WICKER SMALL         United Kingdom          2.0\n",
              "COLOURFUL FLOWER FRUIT BOWL        United Kingdom          1.0\n",
              "\n",
              "[95 rows x 1 columns]"
            ],
            "text/html": [
              "\n",
              "  <div id=\"df-22c2fe53-a9d4-45cf-8538-7347c0ae6c3b\">\n",
              "    <div class=\"colab-df-container\">\n",
              "      <div>\n",
              "<style scoped>\n",
              "    .dataframe tbody tr th:only-of-type {\n",
              "        vertical-align: middle;\n",
              "    }\n",
              "\n",
              "    .dataframe tbody tr th {\n",
              "        vertical-align: top;\n",
              "    }\n",
              "\n",
              "    .dataframe thead th {\n",
              "        text-align: right;\n",
              "    }\n",
              "</style>\n",
              "<table border=\"1\" class=\"dataframe\">\n",
              "  <thead>\n",
              "    <tr style=\"text-align: right;\">\n",
              "      <th></th>\n",
              "      <th></th>\n",
              "      <th>Total_Price</th>\n",
              "    </tr>\n",
              "    <tr>\n",
              "      <th>Itemname</th>\n",
              "      <th>Country</th>\n",
              "      <th></th>\n",
              "    </tr>\n",
              "  </thead>\n",
              "  <tbody>\n",
              "    <tr>\n",
              "      <th>VINTAGE RED KITCHEN CABINET</th>\n",
              "      <th>United Kingdom</th>\n",
              "      <td>7625.0</td>\n",
              "    </tr>\n",
              "    <tr>\n",
              "      <th>LOVE SEAT ANTIQUE WHITE METAL</th>\n",
              "      <th>United Kingdom</th>\n",
              "      <td>5870.0</td>\n",
              "    </tr>\n",
              "    <tr>\n",
              "      <th>Manual</th>\n",
              "      <th>United Kingdom</th>\n",
              "      <td>5064.0</td>\n",
              "    </tr>\n",
              "    <tr>\n",
              "      <th>RUSTIC  SEVENTEEN DRAWER SIDEBOARD</th>\n",
              "      <th>United Kingdom</th>\n",
              "      <td>4670.0</td>\n",
              "    </tr>\n",
              "    <tr>\n",
              "      <th>VINTAGE BLUE KITCHEN CABINET</th>\n",
              "      <th>United Kingdom</th>\n",
              "      <td>3435.0</td>\n",
              "    </tr>\n",
              "    <tr>\n",
              "      <th>...</th>\n",
              "      <th>...</th>\n",
              "      <td>...</td>\n",
              "    </tr>\n",
              "    <tr>\n",
              "      <th>CAKE STAND VICTORIAN FILIGREE MED</th>\n",
              "      <th>United Kingdom</th>\n",
              "      <td>3.0</td>\n",
              "    </tr>\n",
              "    <tr>\n",
              "      <th>PICNIC BASKET WICKER LARGE</th>\n",
              "      <th>United Kingdom</th>\n",
              "      <td>3.0</td>\n",
              "    </tr>\n",
              "    <tr>\n",
              "      <th>High Resolution Image</th>\n",
              "      <th>Germany</th>\n",
              "      <td>3.0</td>\n",
              "    </tr>\n",
              "    <tr>\n",
              "      <th>PICNIC BASKET WICKER SMALL</th>\n",
              "      <th>United Kingdom</th>\n",
              "      <td>2.0</td>\n",
              "    </tr>\n",
              "    <tr>\n",
              "      <th>COLOURFUL FLOWER FRUIT BOWL</th>\n",
              "      <th>United Kingdom</th>\n",
              "      <td>1.0</td>\n",
              "    </tr>\n",
              "  </tbody>\n",
              "</table>\n",
              "<p>95 rows × 1 columns</p>\n",
              "</div>\n",
              "      <button class=\"colab-df-convert\" onclick=\"convertToInteractive('df-22c2fe53-a9d4-45cf-8538-7347c0ae6c3b')\"\n",
              "              title=\"Convert this dataframe to an interactive table.\"\n",
              "              style=\"display:none;\">\n",
              "        \n",
              "  <svg xmlns=\"http://www.w3.org/2000/svg\" height=\"24px\"viewBox=\"0 0 24 24\"\n",
              "       width=\"24px\">\n",
              "    <path d=\"M0 0h24v24H0V0z\" fill=\"none\"/>\n",
              "    <path d=\"M18.56 5.44l.94 2.06.94-2.06 2.06-.94-2.06-.94-.94-2.06-.94 2.06-2.06.94zm-11 1L8.5 8.5l.94-2.06 2.06-.94-2.06-.94L8.5 2.5l-.94 2.06-2.06.94zm10 10l.94 2.06.94-2.06 2.06-.94-2.06-.94-.94-2.06-.94 2.06-2.06.94z\"/><path d=\"M17.41 7.96l-1.37-1.37c-.4-.4-.92-.59-1.43-.59-.52 0-1.04.2-1.43.59L10.3 9.45l-7.72 7.72c-.78.78-.78 2.05 0 2.83L4 21.41c.39.39.9.59 1.41.59.51 0 1.02-.2 1.41-.59l7.78-7.78 2.81-2.81c.8-.78.8-2.07 0-2.86zM5.41 20L4 18.59l7.72-7.72 1.47 1.35L5.41 20z\"/>\n",
              "  </svg>\n",
              "      </button>\n",
              "      \n",
              "  <style>\n",
              "    .colab-df-container {\n",
              "      display:flex;\n",
              "      flex-wrap:wrap;\n",
              "      gap: 12px;\n",
              "    }\n",
              "\n",
              "    .colab-df-convert {\n",
              "      background-color: #E8F0FE;\n",
              "      border: none;\n",
              "      border-radius: 50%;\n",
              "      cursor: pointer;\n",
              "      display: none;\n",
              "      fill: #1967D2;\n",
              "      height: 32px;\n",
              "      padding: 0 0 0 0;\n",
              "      width: 32px;\n",
              "    }\n",
              "\n",
              "    .colab-df-convert:hover {\n",
              "      background-color: #E2EBFA;\n",
              "      box-shadow: 0px 1px 2px rgba(60, 64, 67, 0.3), 0px 1px 3px 1px rgba(60, 64, 67, 0.15);\n",
              "      fill: #174EA6;\n",
              "    }\n",
              "\n",
              "    [theme=dark] .colab-df-convert {\n",
              "      background-color: #3B4455;\n",
              "      fill: #D2E3FC;\n",
              "    }\n",
              "\n",
              "    [theme=dark] .colab-df-convert:hover {\n",
              "      background-color: #434B5C;\n",
              "      box-shadow: 0px 1px 3px 1px rgba(0, 0, 0, 0.15);\n",
              "      filter: drop-shadow(0px 1px 2px rgba(0, 0, 0, 0.3));\n",
              "      fill: #FFFFFF;\n",
              "    }\n",
              "  </style>\n",
              "\n",
              "      <script>\n",
              "        const buttonEl =\n",
              "          document.querySelector('#df-22c2fe53-a9d4-45cf-8538-7347c0ae6c3b button.colab-df-convert');\n",
              "        buttonEl.style.display =\n",
              "          google.colab.kernel.accessAllowed ? 'block' : 'none';\n",
              "\n",
              "        async function convertToInteractive(key) {\n",
              "          const element = document.querySelector('#df-22c2fe53-a9d4-45cf-8538-7347c0ae6c3b');\n",
              "          const dataTable =\n",
              "            await google.colab.kernel.invokeFunction('convertToInteractive',\n",
              "                                                     [key], {});\n",
              "          if (!dataTable) return;\n",
              "\n",
              "          const docLinkHtml = 'Like what you see? Visit the ' +\n",
              "            '<a target=\"_blank\" href=https://colab.research.google.com/notebooks/data_table.ipynb>data table notebook</a>'\n",
              "            + ' to learn more about interactive tables.';\n",
              "          element.innerHTML = '';\n",
              "          dataTable['output_type'] = 'display_data';\n",
              "          await google.colab.output.renderOutput(dataTable, element);\n",
              "          const docLink = document.createElement('div');\n",
              "          docLink.innerHTML = docLinkHtml;\n",
              "          element.appendChild(docLink);\n",
              "        }\n",
              "      </script>\n",
              "    </div>\n",
              "  </div>\n",
              "  "
            ]
          },
          "metadata": {},
          "execution_count": 28
        }
      ]
    },
    {
      "cell_type": "code",
      "source": [
        ""
      ],
      "metadata": {
        "id": "PkzZxcvIp7Z6"
      },
      "execution_count": null,
      "outputs": []
    },
    {
      "cell_type": "markdown",
      "source": [
        "** Filter out the Credit/Cancellation transactions. (BillNo starting with **C**)\n",
        "\n",
        "** Consider filter by one country's transactions only."
      ],
      "metadata": {
        "id": "7qzj4gSh8OdS"
      }
    },
    {
      "cell_type": "markdown",
      "metadata": {
        "id": "F92BHMV3CLDv"
      },
      "source": [
        "# PREPROCESSING"
      ]
    },
    {
      "cell_type": "code",
      "source": [
        ""
      ],
      "metadata": {
        "id": "pjgOFh-eqXXy"
      },
      "execution_count": null,
      "outputs": []
    },
    {
      "cell_type": "markdown",
      "metadata": {
        "id": "3d1FX2hTFohn"
      },
      "source": [
        "Process our data to make it suitable for the algorithm."
      ]
    },
    {
      "cell_type": "markdown",
      "source": [
        "###Do we need to do any further cleaning of the dataset.\n",
        "* *Remove the rows that have cancelled transactions BillNo that start with letter 'c' indicates a cancellation **"
      ],
      "metadata": {
        "id": "Ls0PAb70XC2x"
      }
    },
    {
      "cell_type": "code",
      "source": [
        ""
      ],
      "metadata": {
        "id": "LMbtUXg_Ytvp"
      },
      "execution_count": null,
      "outputs": []
    },
    {
      "cell_type": "markdown",
      "source": [
        "## Parse the items in each Basketgroup by Bill Number and encode values."
      ],
      "metadata": {
        "id": "j3BBMy_hHNYg"
      }
    },
    {
      "cell_type": "markdown",
      "source": [
        "# Invoice Product Matrix (Basket sets)\n",
        "\n"
      ],
      "metadata": {
        "id": "hLF4ObV92xSI"
      }
    },
    {
      "cell_type": "code",
      "source": [
        "df_invoice_product_matrix = mbadf.groupby(['BillNo', 'Itemname']) \\\n",
        "  ['Quantity'].sum().unstack().fillna(0). \\\n",
        "  applymap(lambda x: 1 if x > 0 else 0)\n",
        "\n",
        "df_invoice_product_matrix.head(10)\n",
        "\n"
      ],
      "metadata": {
        "id": "gpD7ibda21vH",
        "colab": {
          "base_uri": "https://localhost:8080/",
          "height": 557
        },
        "outputId": "dbb30dc7-21ab-4ece-d038-3f9cc8ddb59f"
      },
      "execution_count": null,
      "outputs": [
        {
          "output_type": "execute_result",
          "data": {
            "text/plain": [
              "Itemname  BEADED CHANDELIER T-LIGHT HOLDER  BILI NUT AND WOOD NECKLACE  \\\n",
              "BillNo                                                                   \n",
              "536392                                   0                           0   \n",
              "536779                                   0                           0   \n",
              "536835                                   0                           0   \n",
              "537225                                   0                           0   \n",
              "537396                                   0                           0   \n",
              "537859                                   0                           0   \n",
              "537963                                   0                           0   \n",
              "538147                                   0                           0   \n",
              "538354                                   0                           0   \n",
              "538662                                   0                           0   \n",
              "\n",
              "Itemname  BLING KEY RING STAND  BOTANICAL GARDENS WALL CLOCK  \\\n",
              "BillNo                                                         \n",
              "536392                       0                             0   \n",
              "536779                       0                             0   \n",
              "536835                       0                             0   \n",
              "537225                       0                             0   \n",
              "537396                       0                             0   \n",
              "537859                       0                             0   \n",
              "537963                       0                             0   \n",
              "538147                       0                             0   \n",
              "538354                       0                             0   \n",
              "538662                       0                             0   \n",
              "\n",
              "Itemname  BREAD BIN DINER STYLE PINK  BREAD BIN DINER STYLE RED  \\\n",
              "BillNo                                                            \n",
              "536392                             0                          0   \n",
              "536779                             0                          0   \n",
              "536835                             0                          0   \n",
              "537225                             0                          0   \n",
              "537396                             0                          0   \n",
              "537859                             0                          0   \n",
              "537963                             0                          0   \n",
              "538147                             0                          0   \n",
              "538354                             0                          0   \n",
              "538662                             0                          0   \n",
              "\n",
              "Itemname  BROWN CHECK CAT DOORSTOP  BROWN KUKUI COCONUT SEED NECKLACE  \\\n",
              "BillNo                                                                  \n",
              "536392                           0                                  0   \n",
              "536779                           0                                  0   \n",
              "536835                           0                                  0   \n",
              "537225                           0                                  0   \n",
              "537396                           0                                  0   \n",
              "537859                           0                                  0   \n",
              "537963                           0                                  0   \n",
              "538147                           0                                  0   \n",
              "538354                           0                                  0   \n",
              "538662                           0                                  0   \n",
              "\n",
              "Itemname  Bank Charges  CAKE STAND VICTORIAN FILIGREE MED  ...  \\\n",
              "BillNo                                                     ...   \n",
              "536392               0                                  0  ...   \n",
              "536779               1                                  0  ...   \n",
              "536835               0                                  0  ...   \n",
              "537225               0                                  0  ...   \n",
              "537396               0                                  0  ...   \n",
              "537859               0                                  0  ...   \n",
              "537963               0                                  0  ...   \n",
              "538147               0                                  0  ...   \n",
              "538354               0                                  0  ...   \n",
              "538662               0                                  0  ...   \n",
              "\n",
              "Itemname  SMALL WHITE RETROSPOT MUG IN BOX  \\\n",
              "BillNo                                       \n",
              "536392                                   0   \n",
              "536779                                   0   \n",
              "536835                                   0   \n",
              "537225                                   0   \n",
              "537396                                   0   \n",
              "537859                                   0   \n",
              "537963                                   0   \n",
              "538147                                   0   \n",
              "538354                                   0   \n",
              "538662                                   0   \n",
              "\n",
              "Itemname  SPOTTED WHITE NATURAL SEED NECKLACE  TWO DOOR CURIO CABINET  \\\n",
              "BillNo                                                                  \n",
              "536392                                      0                       0   \n",
              "536779                                      0                       0   \n",
              "536835                                      0                       0   \n",
              "537225                                      0                       0   \n",
              "537396                                      0                       0   \n",
              "537859                                      0                       0   \n",
              "537963                                      0                       0   \n",
              "538147                                      0                       0   \n",
              "538354                                      0                       0   \n",
              "538662                                      0                       0   \n",
              "\n",
              "Itemname  UTILTY CABINET WITH HOOKS  VANILLA SCENT CANDLE JEWELLED BOX  \\\n",
              "BillNo                                                                   \n",
              "536392                            0                                  0   \n",
              "536779                            0                                  0   \n",
              "536835                            0                                  0   \n",
              "537225                            0                                  0   \n",
              "537396                            0                                  0   \n",
              "537859                            0                                  0   \n",
              "537963                            0                                  0   \n",
              "538147                            0                                  0   \n",
              "538354                            0                                  0   \n",
              "538662                            0                                  0   \n",
              "\n",
              "Itemname  VICTORIAN SEWING BOX SMALL  VINTAGE BLUE KITCHEN CABINET  \\\n",
              "BillNo                                                               \n",
              "536392                             0                             0   \n",
              "536779                             0                             0   \n",
              "536835                             0                             0   \n",
              "537225                             0                             0   \n",
              "537396                             0                             0   \n",
              "537859                             0                             0   \n",
              "537963                             0                             0   \n",
              "538147                             0                             0   \n",
              "538354                             0                             0   \n",
              "538662                             0                             1   \n",
              "\n",
              "Itemname  VINTAGE RED KITCHEN CABINET  VINTAGE WOODEN BAR STOOL  \\\n",
              "BillNo                                                            \n",
              "536392                              0                         0   \n",
              "536779                              0                         0   \n",
              "536835                              1                         0   \n",
              "537225                              0                         0   \n",
              "537396                              0                         0   \n",
              "537859                              0                         0   \n",
              "537963                              0                         0   \n",
              "538147                              0                         0   \n",
              "538354                              0                         0   \n",
              "538662                              1                         0   \n",
              "\n",
              "Itemname  WOODEN ADVENT CALENDAR CREAM  \n",
              "BillNo                                  \n",
              "536392                               0  \n",
              "536779                               0  \n",
              "536835                               0  \n",
              "537225                               0  \n",
              "537396                               0  \n",
              "537859                               0  \n",
              "537963                               0  \n",
              "538147                               0  \n",
              "538354                               0  \n",
              "538662                               0  \n",
              "\n",
              "[10 rows x 72 columns]"
            ],
            "text/html": [
              "\n",
              "  <div id=\"df-7e5beaff-922c-4323-9ee7-1056deb0a406\">\n",
              "    <div class=\"colab-df-container\">\n",
              "      <div>\n",
              "<style scoped>\n",
              "    .dataframe tbody tr th:only-of-type {\n",
              "        vertical-align: middle;\n",
              "    }\n",
              "\n",
              "    .dataframe tbody tr th {\n",
              "        vertical-align: top;\n",
              "    }\n",
              "\n",
              "    .dataframe thead th {\n",
              "        text-align: right;\n",
              "    }\n",
              "</style>\n",
              "<table border=\"1\" class=\"dataframe\">\n",
              "  <thead>\n",
              "    <tr style=\"text-align: right;\">\n",
              "      <th>Itemname</th>\n",
              "      <th>BEADED CHANDELIER T-LIGHT HOLDER</th>\n",
              "      <th>BILI NUT AND WOOD NECKLACE</th>\n",
              "      <th>BLING KEY RING STAND</th>\n",
              "      <th>BOTANICAL GARDENS WALL CLOCK</th>\n",
              "      <th>BREAD BIN DINER STYLE PINK</th>\n",
              "      <th>BREAD BIN DINER STYLE RED</th>\n",
              "      <th>BROWN CHECK CAT DOORSTOP</th>\n",
              "      <th>BROWN KUKUI COCONUT SEED NECKLACE</th>\n",
              "      <th>Bank Charges</th>\n",
              "      <th>CAKE STAND VICTORIAN FILIGREE MED</th>\n",
              "      <th>...</th>\n",
              "      <th>SMALL WHITE RETROSPOT MUG IN BOX</th>\n",
              "      <th>SPOTTED WHITE NATURAL SEED NECKLACE</th>\n",
              "      <th>TWO DOOR CURIO CABINET</th>\n",
              "      <th>UTILTY CABINET WITH HOOKS</th>\n",
              "      <th>VANILLA SCENT CANDLE JEWELLED BOX</th>\n",
              "      <th>VICTORIAN SEWING BOX SMALL</th>\n",
              "      <th>VINTAGE BLUE KITCHEN CABINET</th>\n",
              "      <th>VINTAGE RED KITCHEN CABINET</th>\n",
              "      <th>VINTAGE WOODEN BAR STOOL</th>\n",
              "      <th>WOODEN ADVENT CALENDAR CREAM</th>\n",
              "    </tr>\n",
              "    <tr>\n",
              "      <th>BillNo</th>\n",
              "      <th></th>\n",
              "      <th></th>\n",
              "      <th></th>\n",
              "      <th></th>\n",
              "      <th></th>\n",
              "      <th></th>\n",
              "      <th></th>\n",
              "      <th></th>\n",
              "      <th></th>\n",
              "      <th></th>\n",
              "      <th></th>\n",
              "      <th></th>\n",
              "      <th></th>\n",
              "      <th></th>\n",
              "      <th></th>\n",
              "      <th></th>\n",
              "      <th></th>\n",
              "      <th></th>\n",
              "      <th></th>\n",
              "      <th></th>\n",
              "      <th></th>\n",
              "    </tr>\n",
              "  </thead>\n",
              "  <tbody>\n",
              "    <tr>\n",
              "      <th>536392</th>\n",
              "      <td>0</td>\n",
              "      <td>0</td>\n",
              "      <td>0</td>\n",
              "      <td>0</td>\n",
              "      <td>0</td>\n",
              "      <td>0</td>\n",
              "      <td>0</td>\n",
              "      <td>0</td>\n",
              "      <td>0</td>\n",
              "      <td>0</td>\n",
              "      <td>...</td>\n",
              "      <td>0</td>\n",
              "      <td>0</td>\n",
              "      <td>0</td>\n",
              "      <td>0</td>\n",
              "      <td>0</td>\n",
              "      <td>0</td>\n",
              "      <td>0</td>\n",
              "      <td>0</td>\n",
              "      <td>0</td>\n",
              "      <td>0</td>\n",
              "    </tr>\n",
              "    <tr>\n",
              "      <th>536779</th>\n",
              "      <td>0</td>\n",
              "      <td>0</td>\n",
              "      <td>0</td>\n",
              "      <td>0</td>\n",
              "      <td>0</td>\n",
              "      <td>0</td>\n",
              "      <td>0</td>\n",
              "      <td>0</td>\n",
              "      <td>1</td>\n",
              "      <td>0</td>\n",
              "      <td>...</td>\n",
              "      <td>0</td>\n",
              "      <td>0</td>\n",
              "      <td>0</td>\n",
              "      <td>0</td>\n",
              "      <td>0</td>\n",
              "      <td>0</td>\n",
              "      <td>0</td>\n",
              "      <td>0</td>\n",
              "      <td>0</td>\n",
              "      <td>0</td>\n",
              "    </tr>\n",
              "    <tr>\n",
              "      <th>536835</th>\n",
              "      <td>0</td>\n",
              "      <td>0</td>\n",
              "      <td>0</td>\n",
              "      <td>0</td>\n",
              "      <td>0</td>\n",
              "      <td>0</td>\n",
              "      <td>0</td>\n",
              "      <td>0</td>\n",
              "      <td>0</td>\n",
              "      <td>0</td>\n",
              "      <td>...</td>\n",
              "      <td>0</td>\n",
              "      <td>0</td>\n",
              "      <td>0</td>\n",
              "      <td>0</td>\n",
              "      <td>0</td>\n",
              "      <td>0</td>\n",
              "      <td>0</td>\n",
              "      <td>1</td>\n",
              "      <td>0</td>\n",
              "      <td>0</td>\n",
              "    </tr>\n",
              "    <tr>\n",
              "      <th>537225</th>\n",
              "      <td>0</td>\n",
              "      <td>0</td>\n",
              "      <td>0</td>\n",
              "      <td>0</td>\n",
              "      <td>0</td>\n",
              "      <td>0</td>\n",
              "      <td>0</td>\n",
              "      <td>0</td>\n",
              "      <td>0</td>\n",
              "      <td>0</td>\n",
              "      <td>...</td>\n",
              "      <td>0</td>\n",
              "      <td>0</td>\n",
              "      <td>0</td>\n",
              "      <td>0</td>\n",
              "      <td>0</td>\n",
              "      <td>0</td>\n",
              "      <td>0</td>\n",
              "      <td>0</td>\n",
              "      <td>0</td>\n",
              "      <td>0</td>\n",
              "    </tr>\n",
              "    <tr>\n",
              "      <th>537396</th>\n",
              "      <td>0</td>\n",
              "      <td>0</td>\n",
              "      <td>0</td>\n",
              "      <td>0</td>\n",
              "      <td>0</td>\n",
              "      <td>0</td>\n",
              "      <td>0</td>\n",
              "      <td>0</td>\n",
              "      <td>0</td>\n",
              "      <td>0</td>\n",
              "      <td>...</td>\n",
              "      <td>0</td>\n",
              "      <td>0</td>\n",
              "      <td>0</td>\n",
              "      <td>0</td>\n",
              "      <td>0</td>\n",
              "      <td>0</td>\n",
              "      <td>0</td>\n",
              "      <td>0</td>\n",
              "      <td>0</td>\n",
              "      <td>0</td>\n",
              "    </tr>\n",
              "    <tr>\n",
              "      <th>537859</th>\n",
              "      <td>0</td>\n",
              "      <td>0</td>\n",
              "      <td>0</td>\n",
              "      <td>0</td>\n",
              "      <td>0</td>\n",
              "      <td>0</td>\n",
              "      <td>0</td>\n",
              "      <td>0</td>\n",
              "      <td>0</td>\n",
              "      <td>0</td>\n",
              "      <td>...</td>\n",
              "      <td>0</td>\n",
              "      <td>0</td>\n",
              "      <td>0</td>\n",
              "      <td>0</td>\n",
              "      <td>0</td>\n",
              "      <td>0</td>\n",
              "      <td>0</td>\n",
              "      <td>0</td>\n",
              "      <td>0</td>\n",
              "      <td>0</td>\n",
              "    </tr>\n",
              "    <tr>\n",
              "      <th>537963</th>\n",
              "      <td>0</td>\n",
              "      <td>0</td>\n",
              "      <td>0</td>\n",
              "      <td>0</td>\n",
              "      <td>0</td>\n",
              "      <td>0</td>\n",
              "      <td>0</td>\n",
              "      <td>0</td>\n",
              "      <td>0</td>\n",
              "      <td>0</td>\n",
              "      <td>...</td>\n",
              "      <td>0</td>\n",
              "      <td>0</td>\n",
              "      <td>0</td>\n",
              "      <td>0</td>\n",
              "      <td>0</td>\n",
              "      <td>0</td>\n",
              "      <td>0</td>\n",
              "      <td>0</td>\n",
              "      <td>0</td>\n",
              "      <td>0</td>\n",
              "    </tr>\n",
              "    <tr>\n",
              "      <th>538147</th>\n",
              "      <td>0</td>\n",
              "      <td>0</td>\n",
              "      <td>0</td>\n",
              "      <td>0</td>\n",
              "      <td>0</td>\n",
              "      <td>0</td>\n",
              "      <td>0</td>\n",
              "      <td>0</td>\n",
              "      <td>0</td>\n",
              "      <td>0</td>\n",
              "      <td>...</td>\n",
              "      <td>0</td>\n",
              "      <td>0</td>\n",
              "      <td>0</td>\n",
              "      <td>0</td>\n",
              "      <td>0</td>\n",
              "      <td>0</td>\n",
              "      <td>0</td>\n",
              "      <td>0</td>\n",
              "      <td>0</td>\n",
              "      <td>0</td>\n",
              "    </tr>\n",
              "    <tr>\n",
              "      <th>538354</th>\n",
              "      <td>0</td>\n",
              "      <td>0</td>\n",
              "      <td>0</td>\n",
              "      <td>0</td>\n",
              "      <td>0</td>\n",
              "      <td>0</td>\n",
              "      <td>0</td>\n",
              "      <td>0</td>\n",
              "      <td>0</td>\n",
              "      <td>0</td>\n",
              "      <td>...</td>\n",
              "      <td>0</td>\n",
              "      <td>0</td>\n",
              "      <td>0</td>\n",
              "      <td>0</td>\n",
              "      <td>0</td>\n",
              "      <td>0</td>\n",
              "      <td>0</td>\n",
              "      <td>0</td>\n",
              "      <td>0</td>\n",
              "      <td>0</td>\n",
              "    </tr>\n",
              "    <tr>\n",
              "      <th>538662</th>\n",
              "      <td>0</td>\n",
              "      <td>0</td>\n",
              "      <td>0</td>\n",
              "      <td>0</td>\n",
              "      <td>0</td>\n",
              "      <td>0</td>\n",
              "      <td>0</td>\n",
              "      <td>0</td>\n",
              "      <td>0</td>\n",
              "      <td>0</td>\n",
              "      <td>...</td>\n",
              "      <td>0</td>\n",
              "      <td>0</td>\n",
              "      <td>0</td>\n",
              "      <td>0</td>\n",
              "      <td>0</td>\n",
              "      <td>0</td>\n",
              "      <td>1</td>\n",
              "      <td>1</td>\n",
              "      <td>0</td>\n",
              "      <td>0</td>\n",
              "    </tr>\n",
              "  </tbody>\n",
              "</table>\n",
              "<p>10 rows × 72 columns</p>\n",
              "</div>\n",
              "      <button class=\"colab-df-convert\" onclick=\"convertToInteractive('df-7e5beaff-922c-4323-9ee7-1056deb0a406')\"\n",
              "              title=\"Convert this dataframe to an interactive table.\"\n",
              "              style=\"display:none;\">\n",
              "        \n",
              "  <svg xmlns=\"http://www.w3.org/2000/svg\" height=\"24px\"viewBox=\"0 0 24 24\"\n",
              "       width=\"24px\">\n",
              "    <path d=\"M0 0h24v24H0V0z\" fill=\"none\"/>\n",
              "    <path d=\"M18.56 5.44l.94 2.06.94-2.06 2.06-.94-2.06-.94-.94-2.06-.94 2.06-2.06.94zm-11 1L8.5 8.5l.94-2.06 2.06-.94-2.06-.94L8.5 2.5l-.94 2.06-2.06.94zm10 10l.94 2.06.94-2.06 2.06-.94-2.06-.94-.94-2.06-.94 2.06-2.06.94z\"/><path d=\"M17.41 7.96l-1.37-1.37c-.4-.4-.92-.59-1.43-.59-.52 0-1.04.2-1.43.59L10.3 9.45l-7.72 7.72c-.78.78-.78 2.05 0 2.83L4 21.41c.39.39.9.59 1.41.59.51 0 1.02-.2 1.41-.59l7.78-7.78 2.81-2.81c.8-.78.8-2.07 0-2.86zM5.41 20L4 18.59l7.72-7.72 1.47 1.35L5.41 20z\"/>\n",
              "  </svg>\n",
              "      </button>\n",
              "      \n",
              "  <style>\n",
              "    .colab-df-container {\n",
              "      display:flex;\n",
              "      flex-wrap:wrap;\n",
              "      gap: 12px;\n",
              "    }\n",
              "\n",
              "    .colab-df-convert {\n",
              "      background-color: #E8F0FE;\n",
              "      border: none;\n",
              "      border-radius: 50%;\n",
              "      cursor: pointer;\n",
              "      display: none;\n",
              "      fill: #1967D2;\n",
              "      height: 32px;\n",
              "      padding: 0 0 0 0;\n",
              "      width: 32px;\n",
              "    }\n",
              "\n",
              "    .colab-df-convert:hover {\n",
              "      background-color: #E2EBFA;\n",
              "      box-shadow: 0px 1px 2px rgba(60, 64, 67, 0.3), 0px 1px 3px 1px rgba(60, 64, 67, 0.15);\n",
              "      fill: #174EA6;\n",
              "    }\n",
              "\n",
              "    [theme=dark] .colab-df-convert {\n",
              "      background-color: #3B4455;\n",
              "      fill: #D2E3FC;\n",
              "    }\n",
              "\n",
              "    [theme=dark] .colab-df-convert:hover {\n",
              "      background-color: #434B5C;\n",
              "      box-shadow: 0px 1px 3px 1px rgba(0, 0, 0, 0.15);\n",
              "      filter: drop-shadow(0px 1px 2px rgba(0, 0, 0, 0.3));\n",
              "      fill: #FFFFFF;\n",
              "    }\n",
              "  </style>\n",
              "\n",
              "      <script>\n",
              "        const buttonEl =\n",
              "          document.querySelector('#df-7e5beaff-922c-4323-9ee7-1056deb0a406 button.colab-df-convert');\n",
              "        buttonEl.style.display =\n",
              "          google.colab.kernel.accessAllowed ? 'block' : 'none';\n",
              "\n",
              "        async function convertToInteractive(key) {\n",
              "          const element = document.querySelector('#df-7e5beaff-922c-4323-9ee7-1056deb0a406');\n",
              "          const dataTable =\n",
              "            await google.colab.kernel.invokeFunction('convertToInteractive',\n",
              "                                                     [key], {});\n",
              "          if (!dataTable) return;\n",
              "\n",
              "          const docLinkHtml = 'Like what you see? Visit the ' +\n",
              "            '<a target=\"_blank\" href=https://colab.research.google.com/notebooks/data_table.ipynb>data table notebook</a>'\n",
              "            + ' to learn more about interactive tables.';\n",
              "          element.innerHTML = '';\n",
              "          dataTable['output_type'] = 'display_data';\n",
              "          await google.colab.output.renderOutput(dataTable, element);\n",
              "          const docLink = document.createElement('div');\n",
              "          docLink.innerHTML = docLinkHtml;\n",
              "          element.appendChild(docLink);\n",
              "        }\n",
              "      </script>\n",
              "    </div>\n",
              "  </div>\n",
              "  "
            ]
          },
          "metadata": {},
          "execution_count": 29
        }
      ]
    },
    {
      "cell_type": "markdown",
      "source": [
        "# ASSOCIATION RULES LEARNING"
      ],
      "metadata": {
        "id": "c17rO-YS2WHz"
      }
    },
    {
      "cell_type": "markdown",
      "source": [
        "We should consider setting the minimum support to **0.001%**."
      ],
      "metadata": {
        "id": "fVFPF7uSr5V7"
      }
    },
    {
      "cell_type": "code",
      "source": [
        "frequent_itemsets = apriori(df_invoice_product_matrix, min_support=0.001, max_len=2, use_colnames=True) \n",
        "frequent_itemsets.sort_values(\"support\", ascending=False)"
      ],
      "metadata": {
        "id": "vCErM1552dJ2",
        "colab": {
          "base_uri": "https://localhost:8080/",
          "height": 424
        },
        "outputId": "f810489f-c661-44e8-da27-0ef2e6dc5147"
      },
      "execution_count": null,
      "outputs": [
        {
          "output_type": "execute_result",
          "data": {
            "text/plain": [
              "      support                                           itemsets\n",
              "44   0.189904                                (Next Day Carriage)\n",
              "3    0.151442                     (BOTANICAL GARDENS WALL CLOCK)\n",
              "43   0.108173                                           (Manual)\n",
              "39   0.096154                    (LOVE SEAT ANTIQUE WHITE METAL)\n",
              "69   0.086538                      (VINTAGE RED KITCHEN CABINET)\n",
              "..        ...                                                ...\n",
              "112  0.002404  (DOORMAT FAIRY CAKE, DOORMAT UNION JACK GUNS A...\n",
              "30   0.002404                             (DOORMAT VINTAGE LEAF)\n",
              "31   0.002404                          (DOORMAT WELCOME PUPPIES)\n",
              "33   0.002404              (FRENCH STYLE EMBOSSED HEART CABINET)\n",
              "101  0.002404  (DOORMAT ENGLISH ROSE, DOORMAT UNION JACK GUNS...\n",
              "\n",
              "[203 rows x 2 columns]"
            ],
            "text/html": [
              "\n",
              "  <div id=\"df-6517d208-f89c-4358-bdb7-e57423443d85\">\n",
              "    <div class=\"colab-df-container\">\n",
              "      <div>\n",
              "<style scoped>\n",
              "    .dataframe tbody tr th:only-of-type {\n",
              "        vertical-align: middle;\n",
              "    }\n",
              "\n",
              "    .dataframe tbody tr th {\n",
              "        vertical-align: top;\n",
              "    }\n",
              "\n",
              "    .dataframe thead th {\n",
              "        text-align: right;\n",
              "    }\n",
              "</style>\n",
              "<table border=\"1\" class=\"dataframe\">\n",
              "  <thead>\n",
              "    <tr style=\"text-align: right;\">\n",
              "      <th></th>\n",
              "      <th>support</th>\n",
              "      <th>itemsets</th>\n",
              "    </tr>\n",
              "  </thead>\n",
              "  <tbody>\n",
              "    <tr>\n",
              "      <th>44</th>\n",
              "      <td>0.189904</td>\n",
              "      <td>(Next Day Carriage)</td>\n",
              "    </tr>\n",
              "    <tr>\n",
              "      <th>3</th>\n",
              "      <td>0.151442</td>\n",
              "      <td>(BOTANICAL GARDENS WALL CLOCK)</td>\n",
              "    </tr>\n",
              "    <tr>\n",
              "      <th>43</th>\n",
              "      <td>0.108173</td>\n",
              "      <td>(Manual)</td>\n",
              "    </tr>\n",
              "    <tr>\n",
              "      <th>39</th>\n",
              "      <td>0.096154</td>\n",
              "      <td>(LOVE SEAT ANTIQUE WHITE METAL)</td>\n",
              "    </tr>\n",
              "    <tr>\n",
              "      <th>69</th>\n",
              "      <td>0.086538</td>\n",
              "      <td>(VINTAGE RED KITCHEN CABINET)</td>\n",
              "    </tr>\n",
              "    <tr>\n",
              "      <th>...</th>\n",
              "      <td>...</td>\n",
              "      <td>...</td>\n",
              "    </tr>\n",
              "    <tr>\n",
              "      <th>112</th>\n",
              "      <td>0.002404</td>\n",
              "      <td>(DOORMAT FAIRY CAKE, DOORMAT UNION JACK GUNS A...</td>\n",
              "    </tr>\n",
              "    <tr>\n",
              "      <th>30</th>\n",
              "      <td>0.002404</td>\n",
              "      <td>(DOORMAT VINTAGE LEAF)</td>\n",
              "    </tr>\n",
              "    <tr>\n",
              "      <th>31</th>\n",
              "      <td>0.002404</td>\n",
              "      <td>(DOORMAT WELCOME PUPPIES)</td>\n",
              "    </tr>\n",
              "    <tr>\n",
              "      <th>33</th>\n",
              "      <td>0.002404</td>\n",
              "      <td>(FRENCH STYLE EMBOSSED HEART CABINET)</td>\n",
              "    </tr>\n",
              "    <tr>\n",
              "      <th>101</th>\n",
              "      <td>0.002404</td>\n",
              "      <td>(DOORMAT ENGLISH ROSE, DOORMAT UNION JACK GUNS...</td>\n",
              "    </tr>\n",
              "  </tbody>\n",
              "</table>\n",
              "<p>203 rows × 2 columns</p>\n",
              "</div>\n",
              "      <button class=\"colab-df-convert\" onclick=\"convertToInteractive('df-6517d208-f89c-4358-bdb7-e57423443d85')\"\n",
              "              title=\"Convert this dataframe to an interactive table.\"\n",
              "              style=\"display:none;\">\n",
              "        \n",
              "  <svg xmlns=\"http://www.w3.org/2000/svg\" height=\"24px\"viewBox=\"0 0 24 24\"\n",
              "       width=\"24px\">\n",
              "    <path d=\"M0 0h24v24H0V0z\" fill=\"none\"/>\n",
              "    <path d=\"M18.56 5.44l.94 2.06.94-2.06 2.06-.94-2.06-.94-.94-2.06-.94 2.06-2.06.94zm-11 1L8.5 8.5l.94-2.06 2.06-.94-2.06-.94L8.5 2.5l-.94 2.06-2.06.94zm10 10l.94 2.06.94-2.06 2.06-.94-2.06-.94-.94-2.06-.94 2.06-2.06.94z\"/><path d=\"M17.41 7.96l-1.37-1.37c-.4-.4-.92-.59-1.43-.59-.52 0-1.04.2-1.43.59L10.3 9.45l-7.72 7.72c-.78.78-.78 2.05 0 2.83L4 21.41c.39.39.9.59 1.41.59.51 0 1.02-.2 1.41-.59l7.78-7.78 2.81-2.81c.8-.78.8-2.07 0-2.86zM5.41 20L4 18.59l7.72-7.72 1.47 1.35L5.41 20z\"/>\n",
              "  </svg>\n",
              "      </button>\n",
              "      \n",
              "  <style>\n",
              "    .colab-df-container {\n",
              "      display:flex;\n",
              "      flex-wrap:wrap;\n",
              "      gap: 12px;\n",
              "    }\n",
              "\n",
              "    .colab-df-convert {\n",
              "      background-color: #E8F0FE;\n",
              "      border: none;\n",
              "      border-radius: 50%;\n",
              "      cursor: pointer;\n",
              "      display: none;\n",
              "      fill: #1967D2;\n",
              "      height: 32px;\n",
              "      padding: 0 0 0 0;\n",
              "      width: 32px;\n",
              "    }\n",
              "\n",
              "    .colab-df-convert:hover {\n",
              "      background-color: #E2EBFA;\n",
              "      box-shadow: 0px 1px 2px rgba(60, 64, 67, 0.3), 0px 1px 3px 1px rgba(60, 64, 67, 0.15);\n",
              "      fill: #174EA6;\n",
              "    }\n",
              "\n",
              "    [theme=dark] .colab-df-convert {\n",
              "      background-color: #3B4455;\n",
              "      fill: #D2E3FC;\n",
              "    }\n",
              "\n",
              "    [theme=dark] .colab-df-convert:hover {\n",
              "      background-color: #434B5C;\n",
              "      box-shadow: 0px 1px 3px 1px rgba(0, 0, 0, 0.15);\n",
              "      filter: drop-shadow(0px 1px 2px rgba(0, 0, 0, 0.3));\n",
              "      fill: #FFFFFF;\n",
              "    }\n",
              "  </style>\n",
              "\n",
              "      <script>\n",
              "        const buttonEl =\n",
              "          document.querySelector('#df-6517d208-f89c-4358-bdb7-e57423443d85 button.colab-df-convert');\n",
              "        buttonEl.style.display =\n",
              "          google.colab.kernel.accessAllowed ? 'block' : 'none';\n",
              "\n",
              "        async function convertToInteractive(key) {\n",
              "          const element = document.querySelector('#df-6517d208-f89c-4358-bdb7-e57423443d85');\n",
              "          const dataTable =\n",
              "            await google.colab.kernel.invokeFunction('convertToInteractive',\n",
              "                                                     [key], {});\n",
              "          if (!dataTable) return;\n",
              "\n",
              "          const docLinkHtml = 'Like what you see? Visit the ' +\n",
              "            '<a target=\"_blank\" href=https://colab.research.google.com/notebooks/data_table.ipynb>data table notebook</a>'\n",
              "            + ' to learn more about interactive tables.';\n",
              "          element.innerHTML = '';\n",
              "          dataTable['output_type'] = 'display_data';\n",
              "          await google.colab.output.renderOutput(dataTable, element);\n",
              "          const docLink = document.createElement('div');\n",
              "          docLink.innerHTML = docLinkHtml;\n",
              "          element.appendChild(docLink);\n",
              "        }\n",
              "      </script>\n",
              "    </div>\n",
              "  </div>\n",
              "  "
            ]
          },
          "metadata": {},
          "execution_count": 51
        }
      ]
    },
    {
      "cell_type": "code",
      "source": [
        "frequent_itemsets.shape"
      ],
      "metadata": {
        "id": "I0SWTWuvpUML",
        "colab": {
          "base_uri": "https://localhost:8080/"
        },
        "outputId": "44360c3e-600b-47e0-b14c-e0d214e44689"
      },
      "execution_count": null,
      "outputs": [
        {
          "output_type": "execute_result",
          "data": {
            "text/plain": [
              "(203, 2)"
            ]
          },
          "metadata": {},
          "execution_count": 52
        }
      ]
    },
    {
      "cell_type": "markdown",
      "source": [
        "From the results above, we have 1077 frequent item combinations"
      ],
      "metadata": {
        "id": "UcH8xsOysSnM"
      }
    },
    {
      "cell_type": "markdown",
      "source": [
        "## Generate the Rules for Support, Confidence and Lift\n",
        "* The **support** metric measures the share of transactions that contain an itemset.\n",
        "* **Confidence** and **Lift** when suport is misleading."
      ],
      "metadata": {
        "id": "maPXH2Y8tKY2"
      }
    },
    {
      "cell_type": "code",
      "source": [
        "rules = association_rules(frequent_itemsets, metric=\"support\", min_threshold=0.001)\n",
        "rules.sort_values(\"support\", ascending=False).head(10)"
      ],
      "metadata": {
        "id": "_qwrlfcw4_6U",
        "colab": {
          "base_uri": "https://localhost:8080/",
          "height": 407
        },
        "outputId": "9af6f65d-7832-4781-d8c8-c1589e92c1a9"
      },
      "execution_count": null,
      "outputs": [
        {
          "output_type": "execute_result",
          "data": {
            "text/plain": [
              "                               antecedents  \\\n",
              "261         (VINTAGE BLUE KITCHEN CABINET)   \n",
              "260          (VINTAGE RED KITCHEN CABINET)   \n",
              "24   (SPOTTED WHITE NATURAL SEED NECKLACE)   \n",
              "22     (BROWN KUKUI COCONUT SEED NECKLACE)   \n",
              "25     (BROWN KUKUI COCONUT SEED NECKLACE)   \n",
              "17       (RED KUKUI COCONUT SEED NECKLACE)   \n",
              "16            (BILI NUT AND WOOD NECKLACE)   \n",
              "15            (BILI NUT AND WOOD NECKLACE)   \n",
              "14     (BROWN KUKUI COCONUT SEED NECKLACE)   \n",
              "23       (RED KUKUI COCONUT SEED NECKLACE)   \n",
              "\n",
              "                               consequents  antecedent support  \\\n",
              "261          (VINTAGE RED KITCHEN CABINET)            0.043269   \n",
              "260         (VINTAGE BLUE KITCHEN CABINET)            0.086538   \n",
              "24     (BROWN KUKUI COCONUT SEED NECKLACE)            0.012019   \n",
              "22       (RED KUKUI COCONUT SEED NECKLACE)            0.014423   \n",
              "25   (SPOTTED WHITE NATURAL SEED NECKLACE)            0.014423   \n",
              "17            (BILI NUT AND WOOD NECKLACE)            0.026442   \n",
              "16       (RED KUKUI COCONUT SEED NECKLACE)            0.009615   \n",
              "15     (BROWN KUKUI COCONUT SEED NECKLACE)            0.009615   \n",
              "14            (BILI NUT AND WOOD NECKLACE)            0.014423   \n",
              "23     (BROWN KUKUI COCONUT SEED NECKLACE)            0.026442   \n",
              "\n",
              "     consequent support   support  confidence       lift  leverage  conviction  \n",
              "261            0.086538  0.024038    0.555556   6.419753  0.020294    2.055288  \n",
              "260            0.043269  0.024038    0.277778   6.419753  0.020294    1.324704  \n",
              "24             0.014423  0.009615    0.800000  55.466667  0.009442    4.927885  \n",
              "22             0.026442  0.009615    0.666667  25.212121  0.009234    2.920673  \n",
              "25             0.012019  0.009615    0.666667  55.466667  0.009442    2.963942  \n",
              "17             0.009615  0.009615    0.363636  37.818182  0.009361    1.556319  \n",
              "16             0.026442  0.009615    1.000000  37.818182  0.009361         inf  \n",
              "15             0.014423  0.009615    1.000000  69.333333  0.009477         inf  \n",
              "14             0.009615  0.009615    0.666667  69.333333  0.009477    2.971154  \n",
              "23             0.014423  0.009615    0.363636  25.212121  0.009234    1.548764  "
            ],
            "text/html": [
              "\n",
              "  <div id=\"df-21f5a26c-7dea-4c1f-b4fc-9e206a88ec60\">\n",
              "    <div class=\"colab-df-container\">\n",
              "      <div>\n",
              "<style scoped>\n",
              "    .dataframe tbody tr th:only-of-type {\n",
              "        vertical-align: middle;\n",
              "    }\n",
              "\n",
              "    .dataframe tbody tr th {\n",
              "        vertical-align: top;\n",
              "    }\n",
              "\n",
              "    .dataframe thead th {\n",
              "        text-align: right;\n",
              "    }\n",
              "</style>\n",
              "<table border=\"1\" class=\"dataframe\">\n",
              "  <thead>\n",
              "    <tr style=\"text-align: right;\">\n",
              "      <th></th>\n",
              "      <th>antecedents</th>\n",
              "      <th>consequents</th>\n",
              "      <th>antecedent support</th>\n",
              "      <th>consequent support</th>\n",
              "      <th>support</th>\n",
              "      <th>confidence</th>\n",
              "      <th>lift</th>\n",
              "      <th>leverage</th>\n",
              "      <th>conviction</th>\n",
              "    </tr>\n",
              "  </thead>\n",
              "  <tbody>\n",
              "    <tr>\n",
              "      <th>261</th>\n",
              "      <td>(VINTAGE BLUE KITCHEN CABINET)</td>\n",
              "      <td>(VINTAGE RED KITCHEN CABINET)</td>\n",
              "      <td>0.043269</td>\n",
              "      <td>0.086538</td>\n",
              "      <td>0.024038</td>\n",
              "      <td>0.555556</td>\n",
              "      <td>6.419753</td>\n",
              "      <td>0.020294</td>\n",
              "      <td>2.055288</td>\n",
              "    </tr>\n",
              "    <tr>\n",
              "      <th>260</th>\n",
              "      <td>(VINTAGE RED KITCHEN CABINET)</td>\n",
              "      <td>(VINTAGE BLUE KITCHEN CABINET)</td>\n",
              "      <td>0.086538</td>\n",
              "      <td>0.043269</td>\n",
              "      <td>0.024038</td>\n",
              "      <td>0.277778</td>\n",
              "      <td>6.419753</td>\n",
              "      <td>0.020294</td>\n",
              "      <td>1.324704</td>\n",
              "    </tr>\n",
              "    <tr>\n",
              "      <th>24</th>\n",
              "      <td>(SPOTTED WHITE NATURAL SEED NECKLACE)</td>\n",
              "      <td>(BROWN KUKUI COCONUT SEED NECKLACE)</td>\n",
              "      <td>0.012019</td>\n",
              "      <td>0.014423</td>\n",
              "      <td>0.009615</td>\n",
              "      <td>0.800000</td>\n",
              "      <td>55.466667</td>\n",
              "      <td>0.009442</td>\n",
              "      <td>4.927885</td>\n",
              "    </tr>\n",
              "    <tr>\n",
              "      <th>22</th>\n",
              "      <td>(BROWN KUKUI COCONUT SEED NECKLACE)</td>\n",
              "      <td>(RED KUKUI COCONUT SEED NECKLACE)</td>\n",
              "      <td>0.014423</td>\n",
              "      <td>0.026442</td>\n",
              "      <td>0.009615</td>\n",
              "      <td>0.666667</td>\n",
              "      <td>25.212121</td>\n",
              "      <td>0.009234</td>\n",
              "      <td>2.920673</td>\n",
              "    </tr>\n",
              "    <tr>\n",
              "      <th>25</th>\n",
              "      <td>(BROWN KUKUI COCONUT SEED NECKLACE)</td>\n",
              "      <td>(SPOTTED WHITE NATURAL SEED NECKLACE)</td>\n",
              "      <td>0.014423</td>\n",
              "      <td>0.012019</td>\n",
              "      <td>0.009615</td>\n",
              "      <td>0.666667</td>\n",
              "      <td>55.466667</td>\n",
              "      <td>0.009442</td>\n",
              "      <td>2.963942</td>\n",
              "    </tr>\n",
              "    <tr>\n",
              "      <th>17</th>\n",
              "      <td>(RED KUKUI COCONUT SEED NECKLACE)</td>\n",
              "      <td>(BILI NUT AND WOOD NECKLACE)</td>\n",
              "      <td>0.026442</td>\n",
              "      <td>0.009615</td>\n",
              "      <td>0.009615</td>\n",
              "      <td>0.363636</td>\n",
              "      <td>37.818182</td>\n",
              "      <td>0.009361</td>\n",
              "      <td>1.556319</td>\n",
              "    </tr>\n",
              "    <tr>\n",
              "      <th>16</th>\n",
              "      <td>(BILI NUT AND WOOD NECKLACE)</td>\n",
              "      <td>(RED KUKUI COCONUT SEED NECKLACE)</td>\n",
              "      <td>0.009615</td>\n",
              "      <td>0.026442</td>\n",
              "      <td>0.009615</td>\n",
              "      <td>1.000000</td>\n",
              "      <td>37.818182</td>\n",
              "      <td>0.009361</td>\n",
              "      <td>inf</td>\n",
              "    </tr>\n",
              "    <tr>\n",
              "      <th>15</th>\n",
              "      <td>(BILI NUT AND WOOD NECKLACE)</td>\n",
              "      <td>(BROWN KUKUI COCONUT SEED NECKLACE)</td>\n",
              "      <td>0.009615</td>\n",
              "      <td>0.014423</td>\n",
              "      <td>0.009615</td>\n",
              "      <td>1.000000</td>\n",
              "      <td>69.333333</td>\n",
              "      <td>0.009477</td>\n",
              "      <td>inf</td>\n",
              "    </tr>\n",
              "    <tr>\n",
              "      <th>14</th>\n",
              "      <td>(BROWN KUKUI COCONUT SEED NECKLACE)</td>\n",
              "      <td>(BILI NUT AND WOOD NECKLACE)</td>\n",
              "      <td>0.014423</td>\n",
              "      <td>0.009615</td>\n",
              "      <td>0.009615</td>\n",
              "      <td>0.666667</td>\n",
              "      <td>69.333333</td>\n",
              "      <td>0.009477</td>\n",
              "      <td>2.971154</td>\n",
              "    </tr>\n",
              "    <tr>\n",
              "      <th>23</th>\n",
              "      <td>(RED KUKUI COCONUT SEED NECKLACE)</td>\n",
              "      <td>(BROWN KUKUI COCONUT SEED NECKLACE)</td>\n",
              "      <td>0.026442</td>\n",
              "      <td>0.014423</td>\n",
              "      <td>0.009615</td>\n",
              "      <td>0.363636</td>\n",
              "      <td>25.212121</td>\n",
              "      <td>0.009234</td>\n",
              "      <td>1.548764</td>\n",
              "    </tr>\n",
              "  </tbody>\n",
              "</table>\n",
              "</div>\n",
              "      <button class=\"colab-df-convert\" onclick=\"convertToInteractive('df-21f5a26c-7dea-4c1f-b4fc-9e206a88ec60')\"\n",
              "              title=\"Convert this dataframe to an interactive table.\"\n",
              "              style=\"display:none;\">\n",
              "        \n",
              "  <svg xmlns=\"http://www.w3.org/2000/svg\" height=\"24px\"viewBox=\"0 0 24 24\"\n",
              "       width=\"24px\">\n",
              "    <path d=\"M0 0h24v24H0V0z\" fill=\"none\"/>\n",
              "    <path d=\"M18.56 5.44l.94 2.06.94-2.06 2.06-.94-2.06-.94-.94-2.06-.94 2.06-2.06.94zm-11 1L8.5 8.5l.94-2.06 2.06-.94-2.06-.94L8.5 2.5l-.94 2.06-2.06.94zm10 10l.94 2.06.94-2.06 2.06-.94-2.06-.94-.94-2.06-.94 2.06-2.06.94z\"/><path d=\"M17.41 7.96l-1.37-1.37c-.4-.4-.92-.59-1.43-.59-.52 0-1.04.2-1.43.59L10.3 9.45l-7.72 7.72c-.78.78-.78 2.05 0 2.83L4 21.41c.39.39.9.59 1.41.59.51 0 1.02-.2 1.41-.59l7.78-7.78 2.81-2.81c.8-.78.8-2.07 0-2.86zM5.41 20L4 18.59l7.72-7.72 1.47 1.35L5.41 20z\"/>\n",
              "  </svg>\n",
              "      </button>\n",
              "      \n",
              "  <style>\n",
              "    .colab-df-container {\n",
              "      display:flex;\n",
              "      flex-wrap:wrap;\n",
              "      gap: 12px;\n",
              "    }\n",
              "\n",
              "    .colab-df-convert {\n",
              "      background-color: #E8F0FE;\n",
              "      border: none;\n",
              "      border-radius: 50%;\n",
              "      cursor: pointer;\n",
              "      display: none;\n",
              "      fill: #1967D2;\n",
              "      height: 32px;\n",
              "      padding: 0 0 0 0;\n",
              "      width: 32px;\n",
              "    }\n",
              "\n",
              "    .colab-df-convert:hover {\n",
              "      background-color: #E2EBFA;\n",
              "      box-shadow: 0px 1px 2px rgba(60, 64, 67, 0.3), 0px 1px 3px 1px rgba(60, 64, 67, 0.15);\n",
              "      fill: #174EA6;\n",
              "    }\n",
              "\n",
              "    [theme=dark] .colab-df-convert {\n",
              "      background-color: #3B4455;\n",
              "      fill: #D2E3FC;\n",
              "    }\n",
              "\n",
              "    [theme=dark] .colab-df-convert:hover {\n",
              "      background-color: #434B5C;\n",
              "      box-shadow: 0px 1px 3px 1px rgba(0, 0, 0, 0.15);\n",
              "      filter: drop-shadow(0px 1px 2px rgba(0, 0, 0, 0.3));\n",
              "      fill: #FFFFFF;\n",
              "    }\n",
              "  </style>\n",
              "\n",
              "      <script>\n",
              "        const buttonEl =\n",
              "          document.querySelector('#df-21f5a26c-7dea-4c1f-b4fc-9e206a88ec60 button.colab-df-convert');\n",
              "        buttonEl.style.display =\n",
              "          google.colab.kernel.accessAllowed ? 'block' : 'none';\n",
              "\n",
              "        async function convertToInteractive(key) {\n",
              "          const element = document.querySelector('#df-21f5a26c-7dea-4c1f-b4fc-9e206a88ec60');\n",
              "          const dataTable =\n",
              "            await google.colab.kernel.invokeFunction('convertToInteractive',\n",
              "                                                     [key], {});\n",
              "          if (!dataTable) return;\n",
              "\n",
              "          const docLinkHtml = 'Like what you see? Visit the ' +\n",
              "            '<a target=\"_blank\" href=https://colab.research.google.com/notebooks/data_table.ipynb>data table notebook</a>'\n",
              "            + ' to learn more about interactive tables.';\n",
              "          element.innerHTML = '';\n",
              "          dataTable['output_type'] = 'display_data';\n",
              "          await google.colab.output.renderOutput(dataTable, element);\n",
              "          const docLink = document.createElement('div');\n",
              "          docLink.innerHTML = docLinkHtml;\n",
              "          element.appendChild(docLink);\n",
              "        }\n",
              "      </script>\n",
              "    </div>\n",
              "  </div>\n",
              "  "
            ]
          },
          "metadata": {},
          "execution_count": 68
        }
      ]
    },
    {
      "cell_type": "code",
      "source": [
        "rules.shape"
      ],
      "metadata": {
        "colab": {
          "base_uri": "https://localhost:8080/"
        },
        "id": "79bCQFxaNGEb",
        "outputId": "68328449-120f-4b5b-9195-4bf158e9401d"
      },
      "execution_count": null,
      "outputs": [
        {
          "output_type": "execute_result",
          "data": {
            "text/plain": [
              "(262, 9)"
            ]
          },
          "metadata": {},
          "execution_count": 69
        }
      ]
    },
    {
      "cell_type": "markdown",
      "source": [
        "### Get rules from Apriori with confidence of 10%."
      ],
      "metadata": {
        "id": "O4xCLTixLaTJ"
      }
    },
    {
      "cell_type": "code",
      "source": [
        "rules = association_rules(frequent_itemsets, metric=\"confidence\", min_threshold=0.1)\n",
        "rules.sort_values(\"confidence\", ascending=False).head(10)"
      ],
      "metadata": {
        "colab": {
          "base_uri": "https://localhost:8080/",
          "height": 407
        },
        "id": "CarMueYJLIsu",
        "outputId": "28ccfec0-6602-4cdb-884c-6e19aa48e248"
      },
      "execution_count": null,
      "outputs": [
        {
          "output_type": "execute_result",
          "data": {
            "text/plain": [
              "                             antecedents                          consequents  \\\n",
              "0    (FLOWERS CHANDELIER T-LIGHT HOLDER)   (BEADED CHANDELIER T-LIGHT HOLDER)   \n",
              "131      (DOORMAT KEEP CALM AND COME IN)               (DOORMAT VINTAGE LEAF)   \n",
              "121       (DOORMAT HOME SWEET HOME BLUE)          (DOORMAT RESPECTABLE HOUSE)   \n",
              "1     (BEADED CHANDELIER T-LIGHT HOLDER)  (FLOWERS CHANDELIER T-LIGHT HOLDER)   \n",
              "125       (DOORMAT HOME SWEET HOME BLUE)                 (DOORMAT UNION FLAG)   \n",
              "126  (DOORMAT UNION JACK GUNS AND ROSES)       (DOORMAT HOME SWEET HOME BLUE)   \n",
              "127       (DOORMAT HOME SWEET HOME BLUE)  (DOORMAT UNION JACK GUNS AND ROSES)   \n",
              "128            (DOORMAT WELCOME PUPPIES)       (DOORMAT HOME SWEET HOME BLUE)   \n",
              "129       (DOORMAT HOME SWEET HOME BLUE)            (DOORMAT WELCOME PUPPIES)   \n",
              "130               (DOORMAT VINTAGE LEAF)      (DOORMAT KEEP CALM AND COME IN)   \n",
              "\n",
              "     antecedent support  consequent support   support  confidence        lift  \\\n",
              "0              0.007212            0.007212  0.007212         1.0  138.666667   \n",
              "131            0.002404            0.002404  0.002404         1.0  416.000000   \n",
              "121            0.002404            0.007212  0.002404         1.0  138.666667   \n",
              "1              0.007212            0.007212  0.007212         1.0  138.666667   \n",
              "125            0.002404            0.007212  0.002404         1.0  138.666667   \n",
              "126            0.002404            0.002404  0.002404         1.0  416.000000   \n",
              "127            0.002404            0.002404  0.002404         1.0  416.000000   \n",
              "128            0.002404            0.002404  0.002404         1.0  416.000000   \n",
              "129            0.002404            0.002404  0.002404         1.0  416.000000   \n",
              "130            0.002404            0.002404  0.002404         1.0  416.000000   \n",
              "\n",
              "     leverage  conviction  \n",
              "0    0.007160         inf  \n",
              "131  0.002398         inf  \n",
              "121  0.002387         inf  \n",
              "1    0.007160         inf  \n",
              "125  0.002387         inf  \n",
              "126  0.002398         inf  \n",
              "127  0.002398         inf  \n",
              "128  0.002398         inf  \n",
              "129  0.002398         inf  \n",
              "130  0.002398         inf  "
            ],
            "text/html": [
              "\n",
              "  <div id=\"df-6fe1da80-e088-45f3-a68b-bb39fd03dbcd\">\n",
              "    <div class=\"colab-df-container\">\n",
              "      <div>\n",
              "<style scoped>\n",
              "    .dataframe tbody tr th:only-of-type {\n",
              "        vertical-align: middle;\n",
              "    }\n",
              "\n",
              "    .dataframe tbody tr th {\n",
              "        vertical-align: top;\n",
              "    }\n",
              "\n",
              "    .dataframe thead th {\n",
              "        text-align: right;\n",
              "    }\n",
              "</style>\n",
              "<table border=\"1\" class=\"dataframe\">\n",
              "  <thead>\n",
              "    <tr style=\"text-align: right;\">\n",
              "      <th></th>\n",
              "      <th>antecedents</th>\n",
              "      <th>consequents</th>\n",
              "      <th>antecedent support</th>\n",
              "      <th>consequent support</th>\n",
              "      <th>support</th>\n",
              "      <th>confidence</th>\n",
              "      <th>lift</th>\n",
              "      <th>leverage</th>\n",
              "      <th>conviction</th>\n",
              "    </tr>\n",
              "  </thead>\n",
              "  <tbody>\n",
              "    <tr>\n",
              "      <th>0</th>\n",
              "      <td>(FLOWERS CHANDELIER T-LIGHT HOLDER)</td>\n",
              "      <td>(BEADED CHANDELIER T-LIGHT HOLDER)</td>\n",
              "      <td>0.007212</td>\n",
              "      <td>0.007212</td>\n",
              "      <td>0.007212</td>\n",
              "      <td>1.0</td>\n",
              "      <td>138.666667</td>\n",
              "      <td>0.007160</td>\n",
              "      <td>inf</td>\n",
              "    </tr>\n",
              "    <tr>\n",
              "      <th>131</th>\n",
              "      <td>(DOORMAT KEEP CALM AND COME IN)</td>\n",
              "      <td>(DOORMAT VINTAGE LEAF)</td>\n",
              "      <td>0.002404</td>\n",
              "      <td>0.002404</td>\n",
              "      <td>0.002404</td>\n",
              "      <td>1.0</td>\n",
              "      <td>416.000000</td>\n",
              "      <td>0.002398</td>\n",
              "      <td>inf</td>\n",
              "    </tr>\n",
              "    <tr>\n",
              "      <th>121</th>\n",
              "      <td>(DOORMAT HOME SWEET HOME BLUE)</td>\n",
              "      <td>(DOORMAT RESPECTABLE HOUSE)</td>\n",
              "      <td>0.002404</td>\n",
              "      <td>0.007212</td>\n",
              "      <td>0.002404</td>\n",
              "      <td>1.0</td>\n",
              "      <td>138.666667</td>\n",
              "      <td>0.002387</td>\n",
              "      <td>inf</td>\n",
              "    </tr>\n",
              "    <tr>\n",
              "      <th>1</th>\n",
              "      <td>(BEADED CHANDELIER T-LIGHT HOLDER)</td>\n",
              "      <td>(FLOWERS CHANDELIER T-LIGHT HOLDER)</td>\n",
              "      <td>0.007212</td>\n",
              "      <td>0.007212</td>\n",
              "      <td>0.007212</td>\n",
              "      <td>1.0</td>\n",
              "      <td>138.666667</td>\n",
              "      <td>0.007160</td>\n",
              "      <td>inf</td>\n",
              "    </tr>\n",
              "    <tr>\n",
              "      <th>125</th>\n",
              "      <td>(DOORMAT HOME SWEET HOME BLUE)</td>\n",
              "      <td>(DOORMAT UNION FLAG)</td>\n",
              "      <td>0.002404</td>\n",
              "      <td>0.007212</td>\n",
              "      <td>0.002404</td>\n",
              "      <td>1.0</td>\n",
              "      <td>138.666667</td>\n",
              "      <td>0.002387</td>\n",
              "      <td>inf</td>\n",
              "    </tr>\n",
              "    <tr>\n",
              "      <th>126</th>\n",
              "      <td>(DOORMAT UNION JACK GUNS AND ROSES)</td>\n",
              "      <td>(DOORMAT HOME SWEET HOME BLUE)</td>\n",
              "      <td>0.002404</td>\n",
              "      <td>0.002404</td>\n",
              "      <td>0.002404</td>\n",
              "      <td>1.0</td>\n",
              "      <td>416.000000</td>\n",
              "      <td>0.002398</td>\n",
              "      <td>inf</td>\n",
              "    </tr>\n",
              "    <tr>\n",
              "      <th>127</th>\n",
              "      <td>(DOORMAT HOME SWEET HOME BLUE)</td>\n",
              "      <td>(DOORMAT UNION JACK GUNS AND ROSES)</td>\n",
              "      <td>0.002404</td>\n",
              "      <td>0.002404</td>\n",
              "      <td>0.002404</td>\n",
              "      <td>1.0</td>\n",
              "      <td>416.000000</td>\n",
              "      <td>0.002398</td>\n",
              "      <td>inf</td>\n",
              "    </tr>\n",
              "    <tr>\n",
              "      <th>128</th>\n",
              "      <td>(DOORMAT WELCOME PUPPIES)</td>\n",
              "      <td>(DOORMAT HOME SWEET HOME BLUE)</td>\n",
              "      <td>0.002404</td>\n",
              "      <td>0.002404</td>\n",
              "      <td>0.002404</td>\n",
              "      <td>1.0</td>\n",
              "      <td>416.000000</td>\n",
              "      <td>0.002398</td>\n",
              "      <td>inf</td>\n",
              "    </tr>\n",
              "    <tr>\n",
              "      <th>129</th>\n",
              "      <td>(DOORMAT HOME SWEET HOME BLUE)</td>\n",
              "      <td>(DOORMAT WELCOME PUPPIES)</td>\n",
              "      <td>0.002404</td>\n",
              "      <td>0.002404</td>\n",
              "      <td>0.002404</td>\n",
              "      <td>1.0</td>\n",
              "      <td>416.000000</td>\n",
              "      <td>0.002398</td>\n",
              "      <td>inf</td>\n",
              "    </tr>\n",
              "    <tr>\n",
              "      <th>130</th>\n",
              "      <td>(DOORMAT VINTAGE LEAF)</td>\n",
              "      <td>(DOORMAT KEEP CALM AND COME IN)</td>\n",
              "      <td>0.002404</td>\n",
              "      <td>0.002404</td>\n",
              "      <td>0.002404</td>\n",
              "      <td>1.0</td>\n",
              "      <td>416.000000</td>\n",
              "      <td>0.002398</td>\n",
              "      <td>inf</td>\n",
              "    </tr>\n",
              "  </tbody>\n",
              "</table>\n",
              "</div>\n",
              "      <button class=\"colab-df-convert\" onclick=\"convertToInteractive('df-6fe1da80-e088-45f3-a68b-bb39fd03dbcd')\"\n",
              "              title=\"Convert this dataframe to an interactive table.\"\n",
              "              style=\"display:none;\">\n",
              "        \n",
              "  <svg xmlns=\"http://www.w3.org/2000/svg\" height=\"24px\"viewBox=\"0 0 24 24\"\n",
              "       width=\"24px\">\n",
              "    <path d=\"M0 0h24v24H0V0z\" fill=\"none\"/>\n",
              "    <path d=\"M18.56 5.44l.94 2.06.94-2.06 2.06-.94-2.06-.94-.94-2.06-.94 2.06-2.06.94zm-11 1L8.5 8.5l.94-2.06 2.06-.94-2.06-.94L8.5 2.5l-.94 2.06-2.06.94zm10 10l.94 2.06.94-2.06 2.06-.94-2.06-.94-.94-2.06-.94 2.06-2.06.94z\"/><path d=\"M17.41 7.96l-1.37-1.37c-.4-.4-.92-.59-1.43-.59-.52 0-1.04.2-1.43.59L10.3 9.45l-7.72 7.72c-.78.78-.78 2.05 0 2.83L4 21.41c.39.39.9.59 1.41.59.51 0 1.02-.2 1.41-.59l7.78-7.78 2.81-2.81c.8-.78.8-2.07 0-2.86zM5.41 20L4 18.59l7.72-7.72 1.47 1.35L5.41 20z\"/>\n",
              "  </svg>\n",
              "      </button>\n",
              "      \n",
              "  <style>\n",
              "    .colab-df-container {\n",
              "      display:flex;\n",
              "      flex-wrap:wrap;\n",
              "      gap: 12px;\n",
              "    }\n",
              "\n",
              "    .colab-df-convert {\n",
              "      background-color: #E8F0FE;\n",
              "      border: none;\n",
              "      border-radius: 50%;\n",
              "      cursor: pointer;\n",
              "      display: none;\n",
              "      fill: #1967D2;\n",
              "      height: 32px;\n",
              "      padding: 0 0 0 0;\n",
              "      width: 32px;\n",
              "    }\n",
              "\n",
              "    .colab-df-convert:hover {\n",
              "      background-color: #E2EBFA;\n",
              "      box-shadow: 0px 1px 2px rgba(60, 64, 67, 0.3), 0px 1px 3px 1px rgba(60, 64, 67, 0.15);\n",
              "      fill: #174EA6;\n",
              "    }\n",
              "\n",
              "    [theme=dark] .colab-df-convert {\n",
              "      background-color: #3B4455;\n",
              "      fill: #D2E3FC;\n",
              "    }\n",
              "\n",
              "    [theme=dark] .colab-df-convert:hover {\n",
              "      background-color: #434B5C;\n",
              "      box-shadow: 0px 1px 3px 1px rgba(0, 0, 0, 0.15);\n",
              "      filter: drop-shadow(0px 1px 2px rgba(0, 0, 0, 0.3));\n",
              "      fill: #FFFFFF;\n",
              "    }\n",
              "  </style>\n",
              "\n",
              "      <script>\n",
              "        const buttonEl =\n",
              "          document.querySelector('#df-6fe1da80-e088-45f3-a68b-bb39fd03dbcd button.colab-df-convert');\n",
              "        buttonEl.style.display =\n",
              "          google.colab.kernel.accessAllowed ? 'block' : 'none';\n",
              "\n",
              "        async function convertToInteractive(key) {\n",
              "          const element = document.querySelector('#df-6fe1da80-e088-45f3-a68b-bb39fd03dbcd');\n",
              "          const dataTable =\n",
              "            await google.colab.kernel.invokeFunction('convertToInteractive',\n",
              "                                                     [key], {});\n",
              "          if (!dataTable) return;\n",
              "\n",
              "          const docLinkHtml = 'Like what you see? Visit the ' +\n",
              "            '<a target=\"_blank\" href=https://colab.research.google.com/notebooks/data_table.ipynb>data table notebook</a>'\n",
              "            + ' to learn more about interactive tables.';\n",
              "          element.innerHTML = '';\n",
              "          dataTable['output_type'] = 'display_data';\n",
              "          await google.colab.output.renderOutput(dataTable, element);\n",
              "          const docLink = document.createElement('div');\n",
              "          docLink.innerHTML = docLinkHtml;\n",
              "          element.appendChild(docLink);\n",
              "        }\n",
              "      </script>\n",
              "    </div>\n",
              "  </div>\n",
              "  "
            ]
          },
          "metadata": {},
          "execution_count": 70
        }
      ]
    },
    {
      "cell_type": "code",
      "source": [
        "rules = association_rules(frequent_itemsets, metric=\"lift\", min_threshold=400)\n",
        "rules.sort_values(\"lift\", ascending=False).head(10)"
      ],
      "metadata": {
        "colab": {
          "base_uri": "https://localhost:8080/",
          "height": 363
        },
        "id": "NT86-HueMHkH",
        "outputId": "5b7c085c-9db1-4d06-f95b-be5ad017ee25"
      },
      "execution_count": null,
      "outputs": [
        {
          "output_type": "execute_result",
          "data": {
            "text/plain": [
              "                           antecedents                          consequents  \\\n",
              "0  (DOORMAT UNION JACK GUNS AND ROSES)       (DOORMAT HOME SWEET HOME BLUE)   \n",
              "1       (DOORMAT HOME SWEET HOME BLUE)  (DOORMAT UNION JACK GUNS AND ROSES)   \n",
              "2            (DOORMAT WELCOME PUPPIES)       (DOORMAT HOME SWEET HOME BLUE)   \n",
              "3       (DOORMAT HOME SWEET HOME BLUE)            (DOORMAT WELCOME PUPPIES)   \n",
              "4               (DOORMAT VINTAGE LEAF)      (DOORMAT KEEP CALM AND COME IN)   \n",
              "5      (DOORMAT KEEP CALM AND COME IN)               (DOORMAT VINTAGE LEAF)   \n",
              "6            (DOORMAT WELCOME PUPPIES)  (DOORMAT UNION JACK GUNS AND ROSES)   \n",
              "7  (DOORMAT UNION JACK GUNS AND ROSES)            (DOORMAT WELCOME PUPPIES)   \n",
              "8               (HAND OPEN SHAPE GOLD)         (HAND OPEN SHAPE DECO.WHITE)   \n",
              "9         (HAND OPEN SHAPE DECO.WHITE)               (HAND OPEN SHAPE GOLD)   \n",
              "\n",
              "   antecedent support  consequent support   support  confidence   lift  \\\n",
              "0            0.002404            0.002404  0.002404         1.0  416.0   \n",
              "1            0.002404            0.002404  0.002404         1.0  416.0   \n",
              "2            0.002404            0.002404  0.002404         1.0  416.0   \n",
              "3            0.002404            0.002404  0.002404         1.0  416.0   \n",
              "4            0.002404            0.002404  0.002404         1.0  416.0   \n",
              "5            0.002404            0.002404  0.002404         1.0  416.0   \n",
              "6            0.002404            0.002404  0.002404         1.0  416.0   \n",
              "7            0.002404            0.002404  0.002404         1.0  416.0   \n",
              "8            0.002404            0.002404  0.002404         1.0  416.0   \n",
              "9            0.002404            0.002404  0.002404         1.0  416.0   \n",
              "\n",
              "   leverage  conviction  \n",
              "0  0.002398         inf  \n",
              "1  0.002398         inf  \n",
              "2  0.002398         inf  \n",
              "3  0.002398         inf  \n",
              "4  0.002398         inf  \n",
              "5  0.002398         inf  \n",
              "6  0.002398         inf  \n",
              "7  0.002398         inf  \n",
              "8  0.002398         inf  \n",
              "9  0.002398         inf  "
            ],
            "text/html": [
              "\n",
              "  <div id=\"df-f830940b-b1e1-4ca6-9d36-dbc27f3b2972\">\n",
              "    <div class=\"colab-df-container\">\n",
              "      <div>\n",
              "<style scoped>\n",
              "    .dataframe tbody tr th:only-of-type {\n",
              "        vertical-align: middle;\n",
              "    }\n",
              "\n",
              "    .dataframe tbody tr th {\n",
              "        vertical-align: top;\n",
              "    }\n",
              "\n",
              "    .dataframe thead th {\n",
              "        text-align: right;\n",
              "    }\n",
              "</style>\n",
              "<table border=\"1\" class=\"dataframe\">\n",
              "  <thead>\n",
              "    <tr style=\"text-align: right;\">\n",
              "      <th></th>\n",
              "      <th>antecedents</th>\n",
              "      <th>consequents</th>\n",
              "      <th>antecedent support</th>\n",
              "      <th>consequent support</th>\n",
              "      <th>support</th>\n",
              "      <th>confidence</th>\n",
              "      <th>lift</th>\n",
              "      <th>leverage</th>\n",
              "      <th>conviction</th>\n",
              "    </tr>\n",
              "  </thead>\n",
              "  <tbody>\n",
              "    <tr>\n",
              "      <th>0</th>\n",
              "      <td>(DOORMAT UNION JACK GUNS AND ROSES)</td>\n",
              "      <td>(DOORMAT HOME SWEET HOME BLUE)</td>\n",
              "      <td>0.002404</td>\n",
              "      <td>0.002404</td>\n",
              "      <td>0.002404</td>\n",
              "      <td>1.0</td>\n",
              "      <td>416.0</td>\n",
              "      <td>0.002398</td>\n",
              "      <td>inf</td>\n",
              "    </tr>\n",
              "    <tr>\n",
              "      <th>1</th>\n",
              "      <td>(DOORMAT HOME SWEET HOME BLUE)</td>\n",
              "      <td>(DOORMAT UNION JACK GUNS AND ROSES)</td>\n",
              "      <td>0.002404</td>\n",
              "      <td>0.002404</td>\n",
              "      <td>0.002404</td>\n",
              "      <td>1.0</td>\n",
              "      <td>416.0</td>\n",
              "      <td>0.002398</td>\n",
              "      <td>inf</td>\n",
              "    </tr>\n",
              "    <tr>\n",
              "      <th>2</th>\n",
              "      <td>(DOORMAT WELCOME PUPPIES)</td>\n",
              "      <td>(DOORMAT HOME SWEET HOME BLUE)</td>\n",
              "      <td>0.002404</td>\n",
              "      <td>0.002404</td>\n",
              "      <td>0.002404</td>\n",
              "      <td>1.0</td>\n",
              "      <td>416.0</td>\n",
              "      <td>0.002398</td>\n",
              "      <td>inf</td>\n",
              "    </tr>\n",
              "    <tr>\n",
              "      <th>3</th>\n",
              "      <td>(DOORMAT HOME SWEET HOME BLUE)</td>\n",
              "      <td>(DOORMAT WELCOME PUPPIES)</td>\n",
              "      <td>0.002404</td>\n",
              "      <td>0.002404</td>\n",
              "      <td>0.002404</td>\n",
              "      <td>1.0</td>\n",
              "      <td>416.0</td>\n",
              "      <td>0.002398</td>\n",
              "      <td>inf</td>\n",
              "    </tr>\n",
              "    <tr>\n",
              "      <th>4</th>\n",
              "      <td>(DOORMAT VINTAGE LEAF)</td>\n",
              "      <td>(DOORMAT KEEP CALM AND COME IN)</td>\n",
              "      <td>0.002404</td>\n",
              "      <td>0.002404</td>\n",
              "      <td>0.002404</td>\n",
              "      <td>1.0</td>\n",
              "      <td>416.0</td>\n",
              "      <td>0.002398</td>\n",
              "      <td>inf</td>\n",
              "    </tr>\n",
              "    <tr>\n",
              "      <th>5</th>\n",
              "      <td>(DOORMAT KEEP CALM AND COME IN)</td>\n",
              "      <td>(DOORMAT VINTAGE LEAF)</td>\n",
              "      <td>0.002404</td>\n",
              "      <td>0.002404</td>\n",
              "      <td>0.002404</td>\n",
              "      <td>1.0</td>\n",
              "      <td>416.0</td>\n",
              "      <td>0.002398</td>\n",
              "      <td>inf</td>\n",
              "    </tr>\n",
              "    <tr>\n",
              "      <th>6</th>\n",
              "      <td>(DOORMAT WELCOME PUPPIES)</td>\n",
              "      <td>(DOORMAT UNION JACK GUNS AND ROSES)</td>\n",
              "      <td>0.002404</td>\n",
              "      <td>0.002404</td>\n",
              "      <td>0.002404</td>\n",
              "      <td>1.0</td>\n",
              "      <td>416.0</td>\n",
              "      <td>0.002398</td>\n",
              "      <td>inf</td>\n",
              "    </tr>\n",
              "    <tr>\n",
              "      <th>7</th>\n",
              "      <td>(DOORMAT UNION JACK GUNS AND ROSES)</td>\n",
              "      <td>(DOORMAT WELCOME PUPPIES)</td>\n",
              "      <td>0.002404</td>\n",
              "      <td>0.002404</td>\n",
              "      <td>0.002404</td>\n",
              "      <td>1.0</td>\n",
              "      <td>416.0</td>\n",
              "      <td>0.002398</td>\n",
              "      <td>inf</td>\n",
              "    </tr>\n",
              "    <tr>\n",
              "      <th>8</th>\n",
              "      <td>(HAND OPEN SHAPE GOLD)</td>\n",
              "      <td>(HAND OPEN SHAPE DECO.WHITE)</td>\n",
              "      <td>0.002404</td>\n",
              "      <td>0.002404</td>\n",
              "      <td>0.002404</td>\n",
              "      <td>1.0</td>\n",
              "      <td>416.0</td>\n",
              "      <td>0.002398</td>\n",
              "      <td>inf</td>\n",
              "    </tr>\n",
              "    <tr>\n",
              "      <th>9</th>\n",
              "      <td>(HAND OPEN SHAPE DECO.WHITE)</td>\n",
              "      <td>(HAND OPEN SHAPE GOLD)</td>\n",
              "      <td>0.002404</td>\n",
              "      <td>0.002404</td>\n",
              "      <td>0.002404</td>\n",
              "      <td>1.0</td>\n",
              "      <td>416.0</td>\n",
              "      <td>0.002398</td>\n",
              "      <td>inf</td>\n",
              "    </tr>\n",
              "  </tbody>\n",
              "</table>\n",
              "</div>\n",
              "      <button class=\"colab-df-convert\" onclick=\"convertToInteractive('df-f830940b-b1e1-4ca6-9d36-dbc27f3b2972')\"\n",
              "              title=\"Convert this dataframe to an interactive table.\"\n",
              "              style=\"display:none;\">\n",
              "        \n",
              "  <svg xmlns=\"http://www.w3.org/2000/svg\" height=\"24px\"viewBox=\"0 0 24 24\"\n",
              "       width=\"24px\">\n",
              "    <path d=\"M0 0h24v24H0V0z\" fill=\"none\"/>\n",
              "    <path d=\"M18.56 5.44l.94 2.06.94-2.06 2.06-.94-2.06-.94-.94-2.06-.94 2.06-2.06.94zm-11 1L8.5 8.5l.94-2.06 2.06-.94-2.06-.94L8.5 2.5l-.94 2.06-2.06.94zm10 10l.94 2.06.94-2.06 2.06-.94-2.06-.94-.94-2.06-.94 2.06-2.06.94z\"/><path d=\"M17.41 7.96l-1.37-1.37c-.4-.4-.92-.59-1.43-.59-.52 0-1.04.2-1.43.59L10.3 9.45l-7.72 7.72c-.78.78-.78 2.05 0 2.83L4 21.41c.39.39.9.59 1.41.59.51 0 1.02-.2 1.41-.59l7.78-7.78 2.81-2.81c.8-.78.8-2.07 0-2.86zM5.41 20L4 18.59l7.72-7.72 1.47 1.35L5.41 20z\"/>\n",
              "  </svg>\n",
              "      </button>\n",
              "      \n",
              "  <style>\n",
              "    .colab-df-container {\n",
              "      display:flex;\n",
              "      flex-wrap:wrap;\n",
              "      gap: 12px;\n",
              "    }\n",
              "\n",
              "    .colab-df-convert {\n",
              "      background-color: #E8F0FE;\n",
              "      border: none;\n",
              "      border-radius: 50%;\n",
              "      cursor: pointer;\n",
              "      display: none;\n",
              "      fill: #1967D2;\n",
              "      height: 32px;\n",
              "      padding: 0 0 0 0;\n",
              "      width: 32px;\n",
              "    }\n",
              "\n",
              "    .colab-df-convert:hover {\n",
              "      background-color: #E2EBFA;\n",
              "      box-shadow: 0px 1px 2px rgba(60, 64, 67, 0.3), 0px 1px 3px 1px rgba(60, 64, 67, 0.15);\n",
              "      fill: #174EA6;\n",
              "    }\n",
              "\n",
              "    [theme=dark] .colab-df-convert {\n",
              "      background-color: #3B4455;\n",
              "      fill: #D2E3FC;\n",
              "    }\n",
              "\n",
              "    [theme=dark] .colab-df-convert:hover {\n",
              "      background-color: #434B5C;\n",
              "      box-shadow: 0px 1px 3px 1px rgba(0, 0, 0, 0.15);\n",
              "      filter: drop-shadow(0px 1px 2px rgba(0, 0, 0, 0.3));\n",
              "      fill: #FFFFFF;\n",
              "    }\n",
              "  </style>\n",
              "\n",
              "      <script>\n",
              "        const buttonEl =\n",
              "          document.querySelector('#df-f830940b-b1e1-4ca6-9d36-dbc27f3b2972 button.colab-df-convert');\n",
              "        buttonEl.style.display =\n",
              "          google.colab.kernel.accessAllowed ? 'block' : 'none';\n",
              "\n",
              "        async function convertToInteractive(key) {\n",
              "          const element = document.querySelector('#df-f830940b-b1e1-4ca6-9d36-dbc27f3b2972');\n",
              "          const dataTable =\n",
              "            await google.colab.kernel.invokeFunction('convertToInteractive',\n",
              "                                                     [key], {});\n",
              "          if (!dataTable) return;\n",
              "\n",
              "          const docLinkHtml = 'Like what you see? Visit the ' +\n",
              "            '<a target=\"_blank\" href=https://colab.research.google.com/notebooks/data_table.ipynb>data table notebook</a>'\n",
              "            + ' to learn more about interactive tables.';\n",
              "          element.innerHTML = '';\n",
              "          dataTable['output_type'] = 'display_data';\n",
              "          await google.colab.output.renderOutput(dataTable, element);\n",
              "          const docLink = document.createElement('div');\n",
              "          docLink.innerHTML = docLinkHtml;\n",
              "          element.appendChild(docLink);\n",
              "        }\n",
              "      </script>\n",
              "    </div>\n",
              "  </div>\n",
              "  "
            ]
          },
          "metadata": {},
          "execution_count": 71
        }
      ]
    },
    {
      "cell_type": "code",
      "source": [
        "rules.shape"
      ],
      "metadata": {
        "colab": {
          "base_uri": "https://localhost:8080/"
        },
        "id": "1lPOVJ_dNNSv",
        "outputId": "b0e78383-725c-4ab6-87a3-ae1a410a7421"
      },
      "execution_count": null,
      "outputs": [
        {
          "output_type": "execute_result",
          "data": {
            "text/plain": [
              "(10, 9)"
            ]
          },
          "metadata": {},
          "execution_count": 72
        }
      ]
    },
    {
      "cell_type": "markdown",
      "source": [
        "##\tLift provides another metric for evaluating the relationship between items.\n",
        "**Numerator:** Proportion of transactions that contain Xx and Yy.\n",
        "\n",
        "**Denominator:** Proportion if Xx and Yy are assigned randomly and independently to transactions.\n"
      ],
      "metadata": {
        "id": "Rbp-99L9w_91"
      }
    },
    {
      "cell_type": "code",
      "source": [
        "sorted_rules = rules.sort_values(\"lift\", ascending=False)\n",
        "rules.sort_values(\"lift\", ascending=False)"
      ],
      "metadata": {
        "id": "EiBcjAsl5GPu",
        "colab": {
          "base_uri": "https://localhost:8080/",
          "height": 363
        },
        "outputId": "9622552c-4580-4944-87f9-263c4ea66671"
      },
      "execution_count": null,
      "outputs": [
        {
          "output_type": "execute_result",
          "data": {
            "text/plain": [
              "                           antecedents                          consequents  \\\n",
              "0  (DOORMAT UNION JACK GUNS AND ROSES)       (DOORMAT HOME SWEET HOME BLUE)   \n",
              "1       (DOORMAT HOME SWEET HOME BLUE)  (DOORMAT UNION JACK GUNS AND ROSES)   \n",
              "2            (DOORMAT WELCOME PUPPIES)       (DOORMAT HOME SWEET HOME BLUE)   \n",
              "3       (DOORMAT HOME SWEET HOME BLUE)            (DOORMAT WELCOME PUPPIES)   \n",
              "4               (DOORMAT VINTAGE LEAF)      (DOORMAT KEEP CALM AND COME IN)   \n",
              "5      (DOORMAT KEEP CALM AND COME IN)               (DOORMAT VINTAGE LEAF)   \n",
              "6            (DOORMAT WELCOME PUPPIES)  (DOORMAT UNION JACK GUNS AND ROSES)   \n",
              "7  (DOORMAT UNION JACK GUNS AND ROSES)            (DOORMAT WELCOME PUPPIES)   \n",
              "8               (HAND OPEN SHAPE GOLD)         (HAND OPEN SHAPE DECO.WHITE)   \n",
              "9         (HAND OPEN SHAPE DECO.WHITE)               (HAND OPEN SHAPE GOLD)   \n",
              "\n",
              "   antecedent support  consequent support   support  confidence   lift  \\\n",
              "0            0.002404            0.002404  0.002404         1.0  416.0   \n",
              "1            0.002404            0.002404  0.002404         1.0  416.0   \n",
              "2            0.002404            0.002404  0.002404         1.0  416.0   \n",
              "3            0.002404            0.002404  0.002404         1.0  416.0   \n",
              "4            0.002404            0.002404  0.002404         1.0  416.0   \n",
              "5            0.002404            0.002404  0.002404         1.0  416.0   \n",
              "6            0.002404            0.002404  0.002404         1.0  416.0   \n",
              "7            0.002404            0.002404  0.002404         1.0  416.0   \n",
              "8            0.002404            0.002404  0.002404         1.0  416.0   \n",
              "9            0.002404            0.002404  0.002404         1.0  416.0   \n",
              "\n",
              "   leverage  conviction  \n",
              "0  0.002398         inf  \n",
              "1  0.002398         inf  \n",
              "2  0.002398         inf  \n",
              "3  0.002398         inf  \n",
              "4  0.002398         inf  \n",
              "5  0.002398         inf  \n",
              "6  0.002398         inf  \n",
              "7  0.002398         inf  \n",
              "8  0.002398         inf  \n",
              "9  0.002398         inf  "
            ],
            "text/html": [
              "\n",
              "  <div id=\"df-e194c7d6-57ca-4f81-aacc-39d581202ce8\">\n",
              "    <div class=\"colab-df-container\">\n",
              "      <div>\n",
              "<style scoped>\n",
              "    .dataframe tbody tr th:only-of-type {\n",
              "        vertical-align: middle;\n",
              "    }\n",
              "\n",
              "    .dataframe tbody tr th {\n",
              "        vertical-align: top;\n",
              "    }\n",
              "\n",
              "    .dataframe thead th {\n",
              "        text-align: right;\n",
              "    }\n",
              "</style>\n",
              "<table border=\"1\" class=\"dataframe\">\n",
              "  <thead>\n",
              "    <tr style=\"text-align: right;\">\n",
              "      <th></th>\n",
              "      <th>antecedents</th>\n",
              "      <th>consequents</th>\n",
              "      <th>antecedent support</th>\n",
              "      <th>consequent support</th>\n",
              "      <th>support</th>\n",
              "      <th>confidence</th>\n",
              "      <th>lift</th>\n",
              "      <th>leverage</th>\n",
              "      <th>conviction</th>\n",
              "    </tr>\n",
              "  </thead>\n",
              "  <tbody>\n",
              "    <tr>\n",
              "      <th>0</th>\n",
              "      <td>(DOORMAT UNION JACK GUNS AND ROSES)</td>\n",
              "      <td>(DOORMAT HOME SWEET HOME BLUE)</td>\n",
              "      <td>0.002404</td>\n",
              "      <td>0.002404</td>\n",
              "      <td>0.002404</td>\n",
              "      <td>1.0</td>\n",
              "      <td>416.0</td>\n",
              "      <td>0.002398</td>\n",
              "      <td>inf</td>\n",
              "    </tr>\n",
              "    <tr>\n",
              "      <th>1</th>\n",
              "      <td>(DOORMAT HOME SWEET HOME BLUE)</td>\n",
              "      <td>(DOORMAT UNION JACK GUNS AND ROSES)</td>\n",
              "      <td>0.002404</td>\n",
              "      <td>0.002404</td>\n",
              "      <td>0.002404</td>\n",
              "      <td>1.0</td>\n",
              "      <td>416.0</td>\n",
              "      <td>0.002398</td>\n",
              "      <td>inf</td>\n",
              "    </tr>\n",
              "    <tr>\n",
              "      <th>2</th>\n",
              "      <td>(DOORMAT WELCOME PUPPIES)</td>\n",
              "      <td>(DOORMAT HOME SWEET HOME BLUE)</td>\n",
              "      <td>0.002404</td>\n",
              "      <td>0.002404</td>\n",
              "      <td>0.002404</td>\n",
              "      <td>1.0</td>\n",
              "      <td>416.0</td>\n",
              "      <td>0.002398</td>\n",
              "      <td>inf</td>\n",
              "    </tr>\n",
              "    <tr>\n",
              "      <th>3</th>\n",
              "      <td>(DOORMAT HOME SWEET HOME BLUE)</td>\n",
              "      <td>(DOORMAT WELCOME PUPPIES)</td>\n",
              "      <td>0.002404</td>\n",
              "      <td>0.002404</td>\n",
              "      <td>0.002404</td>\n",
              "      <td>1.0</td>\n",
              "      <td>416.0</td>\n",
              "      <td>0.002398</td>\n",
              "      <td>inf</td>\n",
              "    </tr>\n",
              "    <tr>\n",
              "      <th>4</th>\n",
              "      <td>(DOORMAT VINTAGE LEAF)</td>\n",
              "      <td>(DOORMAT KEEP CALM AND COME IN)</td>\n",
              "      <td>0.002404</td>\n",
              "      <td>0.002404</td>\n",
              "      <td>0.002404</td>\n",
              "      <td>1.0</td>\n",
              "      <td>416.0</td>\n",
              "      <td>0.002398</td>\n",
              "      <td>inf</td>\n",
              "    </tr>\n",
              "    <tr>\n",
              "      <th>5</th>\n",
              "      <td>(DOORMAT KEEP CALM AND COME IN)</td>\n",
              "      <td>(DOORMAT VINTAGE LEAF)</td>\n",
              "      <td>0.002404</td>\n",
              "      <td>0.002404</td>\n",
              "      <td>0.002404</td>\n",
              "      <td>1.0</td>\n",
              "      <td>416.0</td>\n",
              "      <td>0.002398</td>\n",
              "      <td>inf</td>\n",
              "    </tr>\n",
              "    <tr>\n",
              "      <th>6</th>\n",
              "      <td>(DOORMAT WELCOME PUPPIES)</td>\n",
              "      <td>(DOORMAT UNION JACK GUNS AND ROSES)</td>\n",
              "      <td>0.002404</td>\n",
              "      <td>0.002404</td>\n",
              "      <td>0.002404</td>\n",
              "      <td>1.0</td>\n",
              "      <td>416.0</td>\n",
              "      <td>0.002398</td>\n",
              "      <td>inf</td>\n",
              "    </tr>\n",
              "    <tr>\n",
              "      <th>7</th>\n",
              "      <td>(DOORMAT UNION JACK GUNS AND ROSES)</td>\n",
              "      <td>(DOORMAT WELCOME PUPPIES)</td>\n",
              "      <td>0.002404</td>\n",
              "      <td>0.002404</td>\n",
              "      <td>0.002404</td>\n",
              "      <td>1.0</td>\n",
              "      <td>416.0</td>\n",
              "      <td>0.002398</td>\n",
              "      <td>inf</td>\n",
              "    </tr>\n",
              "    <tr>\n",
              "      <th>8</th>\n",
              "      <td>(HAND OPEN SHAPE GOLD)</td>\n",
              "      <td>(HAND OPEN SHAPE DECO.WHITE)</td>\n",
              "      <td>0.002404</td>\n",
              "      <td>0.002404</td>\n",
              "      <td>0.002404</td>\n",
              "      <td>1.0</td>\n",
              "      <td>416.0</td>\n",
              "      <td>0.002398</td>\n",
              "      <td>inf</td>\n",
              "    </tr>\n",
              "    <tr>\n",
              "      <th>9</th>\n",
              "      <td>(HAND OPEN SHAPE DECO.WHITE)</td>\n",
              "      <td>(HAND OPEN SHAPE GOLD)</td>\n",
              "      <td>0.002404</td>\n",
              "      <td>0.002404</td>\n",
              "      <td>0.002404</td>\n",
              "      <td>1.0</td>\n",
              "      <td>416.0</td>\n",
              "      <td>0.002398</td>\n",
              "      <td>inf</td>\n",
              "    </tr>\n",
              "  </tbody>\n",
              "</table>\n",
              "</div>\n",
              "      <button class=\"colab-df-convert\" onclick=\"convertToInteractive('df-e194c7d6-57ca-4f81-aacc-39d581202ce8')\"\n",
              "              title=\"Convert this dataframe to an interactive table.\"\n",
              "              style=\"display:none;\">\n",
              "        \n",
              "  <svg xmlns=\"http://www.w3.org/2000/svg\" height=\"24px\"viewBox=\"0 0 24 24\"\n",
              "       width=\"24px\">\n",
              "    <path d=\"M0 0h24v24H0V0z\" fill=\"none\"/>\n",
              "    <path d=\"M18.56 5.44l.94 2.06.94-2.06 2.06-.94-2.06-.94-.94-2.06-.94 2.06-2.06.94zm-11 1L8.5 8.5l.94-2.06 2.06-.94-2.06-.94L8.5 2.5l-.94 2.06-2.06.94zm10 10l.94 2.06.94-2.06 2.06-.94-2.06-.94-.94-2.06-.94 2.06-2.06.94z\"/><path d=\"M17.41 7.96l-1.37-1.37c-.4-.4-.92-.59-1.43-.59-.52 0-1.04.2-1.43.59L10.3 9.45l-7.72 7.72c-.78.78-.78 2.05 0 2.83L4 21.41c.39.39.9.59 1.41.59.51 0 1.02-.2 1.41-.59l7.78-7.78 2.81-2.81c.8-.78.8-2.07 0-2.86zM5.41 20L4 18.59l7.72-7.72 1.47 1.35L5.41 20z\"/>\n",
              "  </svg>\n",
              "      </button>\n",
              "      \n",
              "  <style>\n",
              "    .colab-df-container {\n",
              "      display:flex;\n",
              "      flex-wrap:wrap;\n",
              "      gap: 12px;\n",
              "    }\n",
              "\n",
              "    .colab-df-convert {\n",
              "      background-color: #E8F0FE;\n",
              "      border: none;\n",
              "      border-radius: 50%;\n",
              "      cursor: pointer;\n",
              "      display: none;\n",
              "      fill: #1967D2;\n",
              "      height: 32px;\n",
              "      padding: 0 0 0 0;\n",
              "      width: 32px;\n",
              "    }\n",
              "\n",
              "    .colab-df-convert:hover {\n",
              "      background-color: #E2EBFA;\n",
              "      box-shadow: 0px 1px 2px rgba(60, 64, 67, 0.3), 0px 1px 3px 1px rgba(60, 64, 67, 0.15);\n",
              "      fill: #174EA6;\n",
              "    }\n",
              "\n",
              "    [theme=dark] .colab-df-convert {\n",
              "      background-color: #3B4455;\n",
              "      fill: #D2E3FC;\n",
              "    }\n",
              "\n",
              "    [theme=dark] .colab-df-convert:hover {\n",
              "      background-color: #434B5C;\n",
              "      box-shadow: 0px 1px 3px 1px rgba(0, 0, 0, 0.15);\n",
              "      filter: drop-shadow(0px 1px 2px rgba(0, 0, 0, 0.3));\n",
              "      fill: #FFFFFF;\n",
              "    }\n",
              "  </style>\n",
              "\n",
              "      <script>\n",
              "        const buttonEl =\n",
              "          document.querySelector('#df-e194c7d6-57ca-4f81-aacc-39d581202ce8 button.colab-df-convert');\n",
              "        buttonEl.style.display =\n",
              "          google.colab.kernel.accessAllowed ? 'block' : 'none';\n",
              "\n",
              "        async function convertToInteractive(key) {\n",
              "          const element = document.querySelector('#df-e194c7d6-57ca-4f81-aacc-39d581202ce8');\n",
              "          const dataTable =\n",
              "            await google.colab.kernel.invokeFunction('convertToInteractive',\n",
              "                                                     [key], {});\n",
              "          if (!dataTable) return;\n",
              "\n",
              "          const docLinkHtml = 'Like what you see? Visit the ' +\n",
              "            '<a target=\"_blank\" href=https://colab.research.google.com/notebooks/data_table.ipynb>data table notebook</a>'\n",
              "            + ' to learn more about interactive tables.';\n",
              "          element.innerHTML = '';\n",
              "          dataTable['output_type'] = 'display_data';\n",
              "          await google.colab.output.renderOutput(dataTable, element);\n",
              "          const docLink = document.createElement('div');\n",
              "          docLink.innerHTML = docLinkHtml;\n",
              "          element.appendChild(docLink);\n",
              "        }\n",
              "      </script>\n",
              "    </div>\n",
              "  </div>\n",
              "  "
            ]
          },
          "metadata": {},
          "execution_count": 73
        }
      ]
    },
    {
      "cell_type": "code",
      "source": [
        "rules.shape"
      ],
      "metadata": {
        "colab": {
          "base_uri": "https://localhost:8080/"
        },
        "id": "ncRwaEuMNSII",
        "outputId": "26b43459-5c9b-4211-98ad-20d2acb36777"
      },
      "execution_count": null,
      "outputs": [
        {
          "output_type": "execute_result",
          "data": {
            "text/plain": [
              "(10, 9)"
            ]
          },
          "metadata": {},
          "execution_count": 74
        }
      ]
    },
    {
      "cell_type": "markdown",
      "source": [
        "### What pair of items are frequently bought together?\n",
        "DOOR MAT UNION JACK GUNS AND ROSES and DOORMAT HOME SWEET HOME BLUE"
      ],
      "metadata": {
        "id": "FPCPjR9wnPoL"
      }
    },
    {
      "cell_type": "markdown",
      "source": [
        "### What recommendations should we suggest for pricing and promotion items?"
      ],
      "metadata": {
        "id": "EkaX-Gpg_fM_"
      }
    },
    {
      "cell_type": "markdown",
      "source": [
        "### We can build a recommendation engine to recomend DOOR MAT UNION JACK GUNS AND ROSES to customers who purchase DOORMAT HOME SWEET HOME BLUE (first rule)."
      ],
      "metadata": {
        "id": "NZl3uuVcOA-m"
      }
    },
    {
      "cell_type": "code",
      "metadata": {
        "id": "4xkG9S9rC6Jg"
      },
      "source": [
        "recommendation_list = []\n",
        "\n",
        "for i, product in sorted_rules['antecedents'].items():\n",
        "    for j in list(product):\n",
        "        if j == ('DOORMAT HOME SWEET HOME BLUE'):\n",
        "            recommendation_list.append(list(sorted_rules.iloc[i]['consequents']))"
      ],
      "execution_count": null,
      "outputs": []
    },
    {
      "cell_type": "code",
      "source": [
        "recommendation_list"
      ],
      "metadata": {
        "id": "SrhMUomE_yRM",
        "colab": {
          "base_uri": "https://localhost:8080/"
        },
        "outputId": "d8a391fa-33d1-4d96-dcdb-0e707bfdd4f1"
      },
      "execution_count": null,
      "outputs": [
        {
          "output_type": "execute_result",
          "data": {
            "text/plain": [
              "[['DOORMAT UNION JACK GUNS AND ROSES'], ['DOORMAT WELCOME PUPPIES']]"
            ]
          },
          "metadata": {},
          "execution_count": 40
        }
      ]
    },
    {
      "cell_type": "code",
      "metadata": {
        "id": "DhY4G_4DVPAV"
      },
      "source": [
        ""
      ],
      "execution_count": null,
      "outputs": []
    }
  ]
}